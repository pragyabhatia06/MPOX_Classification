{
  "nbformat": 4,
  "nbformat_minor": 0,
  "metadata": {
    "colab": {
      "provenance": []
    },
    "kernelspec": {
      "name": "python3",
      "display_name": "Python 3"
    },
    "language_info": {
      "name": "python"
    }
  },
  "cells": [
    {
      "cell_type": "markdown",
      "source": [
        "***Install Libraries***"
      ],
      "metadata": {
        "id": "D-ss8D0djPJg"
      }
    },
    {
      "cell_type": "code",
      "execution_count": null,
      "metadata": {
        "id": "-8yS--TECHn9"
      },
      "outputs": [],
      "source": [
        "import pandas as pd\n",
        "import numpy as np\n",
        "\n",
        "#visulazation\n",
        "import matplotlib.pyplot as plt\n",
        "import seaborn as sns\n",
        "\n",
        "#sklearn\n",
        "from sklearn import preprocessing\n",
        "from sklearn import metrics\n",
        "from sklearn.metrics import confusion_matrix\n",
        "from sklearn.metrics import accuracy_score\n",
        "from sklearn.metrics import classification_report\n",
        "from sklearn.metrics import ConfusionMatrixDisplay\n",
        "from sklearn.metrics import f1_score,recall_score\n",
        "from sklearn.metrics import roc_auc_score, roc_curve"
      ]
    },
    {
      "cell_type": "code",
      "source": [
        "data=pd.read_csv('/content/Monkeypox Coursework Dataset.csv')"
      ],
      "metadata": {
        "id": "AOrnz7z9tizl"
      },
      "execution_count": null,
      "outputs": []
    },
    {
      "cell_type": "markdown",
      "source": [
        "**Take required columns which User can specify for Instant PCR Results without any lab values for e.g. Red blood Cells Count**\n",
        "Considering you are aware about HIV & STI"
      ],
      "metadata": {
        "id": "JwBUf91xjV0z"
      }
    },
    {
      "cell_type": "code",
      "source": [
        "df =data.drop(['Test ID','Systemic Illness','Red blood cells count','White blood cells count','Home ownership','Month of Birth','Health Insurance'], axis=1)"
      ],
      "metadata": {
        "id": "db_Di4qftowS"
      },
      "execution_count": null,
      "outputs": []
    },
    {
      "cell_type": "code",
      "source": [
        "df.head()"
      ],
      "metadata": {
        "colab": {
          "base_uri": "https://localhost:8080/",
          "height": 241
        },
        "id": "3F0c99hqsOzg",
        "outputId": "64f0b689-c0d2-4cc7-f4a5-3bd65428341a"
      },
      "execution_count": null,
      "outputs": [
        {
          "output_type": "execute_result",
          "data": {
            "text/plain": [
              "   Encoded Systemic Illness  Rectal Pain  Sore Throat  Penile Oedema  \\\n",
              "0                       0.0          0.0            1            1.0   \n",
              "1                       1.0          1.0            0            1.0   \n",
              "2                       1.0          0.0            1            1.0   \n",
              "3                       0.0          1.0            0            0.0   \n",
              "4                       3.0          1.0            1            1.0   \n",
              "\n",
              "  Oral Lesions  Solitary Lesion  Swollen Tonsils  HIV Infection Age  \\\n",
              "0            1                0              1.0            0.0  37   \n",
              "1            1                0              0.0            1.0  24   \n",
              "2            0                0              0.0            1.0  34   \n",
              "3            0                1              1.0            1.0  40   \n",
              "4            0                0              1.0            1.0  36   \n",
              "\n",
              "   Sexually Transmitted Infection MPOX PCR Result  \n",
              "0                             0.0        Negative  \n",
              "1                             0.0        Positive  \n",
              "2                             0.0        Positive  \n",
              "3                             0.0        Positive  \n",
              "4                             0.0        Positive  "
            ],
            "text/html": [
              "\n",
              "  <div id=\"df-50e69134-54b7-4434-9c4f-17fc8a2cd05e\" class=\"colab-df-container\">\n",
              "    <div>\n",
              "<style scoped>\n",
              "    .dataframe tbody tr th:only-of-type {\n",
              "        vertical-align: middle;\n",
              "    }\n",
              "\n",
              "    .dataframe tbody tr th {\n",
              "        vertical-align: top;\n",
              "    }\n",
              "\n",
              "    .dataframe thead th {\n",
              "        text-align: right;\n",
              "    }\n",
              "</style>\n",
              "<table border=\"1\" class=\"dataframe\">\n",
              "  <thead>\n",
              "    <tr style=\"text-align: right;\">\n",
              "      <th></th>\n",
              "      <th>Encoded Systemic Illness</th>\n",
              "      <th>Rectal Pain</th>\n",
              "      <th>Sore Throat</th>\n",
              "      <th>Penile Oedema</th>\n",
              "      <th>Oral Lesions</th>\n",
              "      <th>Solitary Lesion</th>\n",
              "      <th>Swollen Tonsils</th>\n",
              "      <th>HIV Infection</th>\n",
              "      <th>Age</th>\n",
              "      <th>Sexually Transmitted Infection</th>\n",
              "      <th>MPOX PCR Result</th>\n",
              "    </tr>\n",
              "  </thead>\n",
              "  <tbody>\n",
              "    <tr>\n",
              "      <th>0</th>\n",
              "      <td>0.0</td>\n",
              "      <td>0.0</td>\n",
              "      <td>1</td>\n",
              "      <td>1.0</td>\n",
              "      <td>1</td>\n",
              "      <td>0</td>\n",
              "      <td>1.0</td>\n",
              "      <td>0.0</td>\n",
              "      <td>37</td>\n",
              "      <td>0.0</td>\n",
              "      <td>Negative</td>\n",
              "    </tr>\n",
              "    <tr>\n",
              "      <th>1</th>\n",
              "      <td>1.0</td>\n",
              "      <td>1.0</td>\n",
              "      <td>0</td>\n",
              "      <td>1.0</td>\n",
              "      <td>1</td>\n",
              "      <td>0</td>\n",
              "      <td>0.0</td>\n",
              "      <td>1.0</td>\n",
              "      <td>24</td>\n",
              "      <td>0.0</td>\n",
              "      <td>Positive</td>\n",
              "    </tr>\n",
              "    <tr>\n",
              "      <th>2</th>\n",
              "      <td>1.0</td>\n",
              "      <td>0.0</td>\n",
              "      <td>1</td>\n",
              "      <td>1.0</td>\n",
              "      <td>0</td>\n",
              "      <td>0</td>\n",
              "      <td>0.0</td>\n",
              "      <td>1.0</td>\n",
              "      <td>34</td>\n",
              "      <td>0.0</td>\n",
              "      <td>Positive</td>\n",
              "    </tr>\n",
              "    <tr>\n",
              "      <th>3</th>\n",
              "      <td>0.0</td>\n",
              "      <td>1.0</td>\n",
              "      <td>0</td>\n",
              "      <td>0.0</td>\n",
              "      <td>0</td>\n",
              "      <td>1</td>\n",
              "      <td>1.0</td>\n",
              "      <td>1.0</td>\n",
              "      <td>40</td>\n",
              "      <td>0.0</td>\n",
              "      <td>Positive</td>\n",
              "    </tr>\n",
              "    <tr>\n",
              "      <th>4</th>\n",
              "      <td>3.0</td>\n",
              "      <td>1.0</td>\n",
              "      <td>1</td>\n",
              "      <td>1.0</td>\n",
              "      <td>0</td>\n",
              "      <td>0</td>\n",
              "      <td>1.0</td>\n",
              "      <td>1.0</td>\n",
              "      <td>36</td>\n",
              "      <td>0.0</td>\n",
              "      <td>Positive</td>\n",
              "    </tr>\n",
              "  </tbody>\n",
              "</table>\n",
              "</div>\n",
              "    <div class=\"colab-df-buttons\">\n",
              "\n",
              "  <div class=\"colab-df-container\">\n",
              "    <button class=\"colab-df-convert\" onclick=\"convertToInteractive('df-50e69134-54b7-4434-9c4f-17fc8a2cd05e')\"\n",
              "            title=\"Convert this dataframe to an interactive table.\"\n",
              "            style=\"display:none;\">\n",
              "\n",
              "  <svg xmlns=\"http://www.w3.org/2000/svg\" height=\"24px\" viewBox=\"0 -960 960 960\">\n",
              "    <path d=\"M120-120v-720h720v720H120Zm60-500h600v-160H180v160Zm220 220h160v-160H400v160Zm0 220h160v-160H400v160ZM180-400h160v-160H180v160Zm440 0h160v-160H620v160ZM180-180h160v-160H180v160Zm440 0h160v-160H620v160Z\"/>\n",
              "  </svg>\n",
              "    </button>\n",
              "\n",
              "  <style>\n",
              "    .colab-df-container {\n",
              "      display:flex;\n",
              "      gap: 12px;\n",
              "    }\n",
              "\n",
              "    .colab-df-convert {\n",
              "      background-color: #E8F0FE;\n",
              "      border: none;\n",
              "      border-radius: 50%;\n",
              "      cursor: pointer;\n",
              "      display: none;\n",
              "      fill: #1967D2;\n",
              "      height: 32px;\n",
              "      padding: 0 0 0 0;\n",
              "      width: 32px;\n",
              "    }\n",
              "\n",
              "    .colab-df-convert:hover {\n",
              "      background-color: #E2EBFA;\n",
              "      box-shadow: 0px 1px 2px rgba(60, 64, 67, 0.3), 0px 1px 3px 1px rgba(60, 64, 67, 0.15);\n",
              "      fill: #174EA6;\n",
              "    }\n",
              "\n",
              "    .colab-df-buttons div {\n",
              "      margin-bottom: 4px;\n",
              "    }\n",
              "\n",
              "    [theme=dark] .colab-df-convert {\n",
              "      background-color: #3B4455;\n",
              "      fill: #D2E3FC;\n",
              "    }\n",
              "\n",
              "    [theme=dark] .colab-df-convert:hover {\n",
              "      background-color: #434B5C;\n",
              "      box-shadow: 0px 1px 3px 1px rgba(0, 0, 0, 0.15);\n",
              "      filter: drop-shadow(0px 1px 2px rgba(0, 0, 0, 0.3));\n",
              "      fill: #FFFFFF;\n",
              "    }\n",
              "  </style>\n",
              "\n",
              "    <script>\n",
              "      const buttonEl =\n",
              "        document.querySelector('#df-50e69134-54b7-4434-9c4f-17fc8a2cd05e button.colab-df-convert');\n",
              "      buttonEl.style.display =\n",
              "        google.colab.kernel.accessAllowed ? 'block' : 'none';\n",
              "\n",
              "      async function convertToInteractive(key) {\n",
              "        const element = document.querySelector('#df-50e69134-54b7-4434-9c4f-17fc8a2cd05e');\n",
              "        const dataTable =\n",
              "          await google.colab.kernel.invokeFunction('convertToInteractive',\n",
              "                                                    [key], {});\n",
              "        if (!dataTable) return;\n",
              "\n",
              "        const docLinkHtml = 'Like what you see? Visit the ' +\n",
              "          '<a target=\"_blank\" href=https://colab.research.google.com/notebooks/data_table.ipynb>data table notebook</a>'\n",
              "          + ' to learn more about interactive tables.';\n",
              "        element.innerHTML = '';\n",
              "        dataTable['output_type'] = 'display_data';\n",
              "        await google.colab.output.renderOutput(dataTable, element);\n",
              "        const docLink = document.createElement('div');\n",
              "        docLink.innerHTML = docLinkHtml;\n",
              "        element.appendChild(docLink);\n",
              "      }\n",
              "    </script>\n",
              "  </div>\n",
              "\n",
              "\n",
              "<div id=\"df-07229e64-2d5e-4ded-b092-abfb0577816f\">\n",
              "  <button class=\"colab-df-quickchart\" onclick=\"quickchart('df-07229e64-2d5e-4ded-b092-abfb0577816f')\"\n",
              "            title=\"Suggest charts\"\n",
              "            style=\"display:none;\">\n",
              "\n",
              "<svg xmlns=\"http://www.w3.org/2000/svg\" height=\"24px\"viewBox=\"0 0 24 24\"\n",
              "     width=\"24px\">\n",
              "    <g>\n",
              "        <path d=\"M19 3H5c-1.1 0-2 .9-2 2v14c0 1.1.9 2 2 2h14c1.1 0 2-.9 2-2V5c0-1.1-.9-2-2-2zM9 17H7v-7h2v7zm4 0h-2V7h2v10zm4 0h-2v-4h2v4z\"/>\n",
              "    </g>\n",
              "</svg>\n",
              "  </button>\n",
              "\n",
              "<style>\n",
              "  .colab-df-quickchart {\n",
              "      --bg-color: #E8F0FE;\n",
              "      --fill-color: #1967D2;\n",
              "      --hover-bg-color: #E2EBFA;\n",
              "      --hover-fill-color: #174EA6;\n",
              "      --disabled-fill-color: #AAA;\n",
              "      --disabled-bg-color: #DDD;\n",
              "  }\n",
              "\n",
              "  [theme=dark] .colab-df-quickchart {\n",
              "      --bg-color: #3B4455;\n",
              "      --fill-color: #D2E3FC;\n",
              "      --hover-bg-color: #434B5C;\n",
              "      --hover-fill-color: #FFFFFF;\n",
              "      --disabled-bg-color: #3B4455;\n",
              "      --disabled-fill-color: #666;\n",
              "  }\n",
              "\n",
              "  .colab-df-quickchart {\n",
              "    background-color: var(--bg-color);\n",
              "    border: none;\n",
              "    border-radius: 50%;\n",
              "    cursor: pointer;\n",
              "    display: none;\n",
              "    fill: var(--fill-color);\n",
              "    height: 32px;\n",
              "    padding: 0;\n",
              "    width: 32px;\n",
              "  }\n",
              "\n",
              "  .colab-df-quickchart:hover {\n",
              "    background-color: var(--hover-bg-color);\n",
              "    box-shadow: 0 1px 2px rgba(60, 64, 67, 0.3), 0 1px 3px 1px rgba(60, 64, 67, 0.15);\n",
              "    fill: var(--button-hover-fill-color);\n",
              "  }\n",
              "\n",
              "  .colab-df-quickchart-complete:disabled,\n",
              "  .colab-df-quickchart-complete:disabled:hover {\n",
              "    background-color: var(--disabled-bg-color);\n",
              "    fill: var(--disabled-fill-color);\n",
              "    box-shadow: none;\n",
              "  }\n",
              "\n",
              "  .colab-df-spinner {\n",
              "    border: 2px solid var(--fill-color);\n",
              "    border-color: transparent;\n",
              "    border-bottom-color: var(--fill-color);\n",
              "    animation:\n",
              "      spin 1s steps(1) infinite;\n",
              "  }\n",
              "\n",
              "  @keyframes spin {\n",
              "    0% {\n",
              "      border-color: transparent;\n",
              "      border-bottom-color: var(--fill-color);\n",
              "      border-left-color: var(--fill-color);\n",
              "    }\n",
              "    20% {\n",
              "      border-color: transparent;\n",
              "      border-left-color: var(--fill-color);\n",
              "      border-top-color: var(--fill-color);\n",
              "    }\n",
              "    30% {\n",
              "      border-color: transparent;\n",
              "      border-left-color: var(--fill-color);\n",
              "      border-top-color: var(--fill-color);\n",
              "      border-right-color: var(--fill-color);\n",
              "    }\n",
              "    40% {\n",
              "      border-color: transparent;\n",
              "      border-right-color: var(--fill-color);\n",
              "      border-top-color: var(--fill-color);\n",
              "    }\n",
              "    60% {\n",
              "      border-color: transparent;\n",
              "      border-right-color: var(--fill-color);\n",
              "    }\n",
              "    80% {\n",
              "      border-color: transparent;\n",
              "      border-right-color: var(--fill-color);\n",
              "      border-bottom-color: var(--fill-color);\n",
              "    }\n",
              "    90% {\n",
              "      border-color: transparent;\n",
              "      border-bottom-color: var(--fill-color);\n",
              "    }\n",
              "  }\n",
              "</style>\n",
              "\n",
              "  <script>\n",
              "    async function quickchart(key) {\n",
              "      const quickchartButtonEl =\n",
              "        document.querySelector('#' + key + ' button');\n",
              "      quickchartButtonEl.disabled = true;  // To prevent multiple clicks.\n",
              "      quickchartButtonEl.classList.add('colab-df-spinner');\n",
              "      try {\n",
              "        const charts = await google.colab.kernel.invokeFunction(\n",
              "            'suggestCharts', [key], {});\n",
              "      } catch (error) {\n",
              "        console.error('Error during call to suggestCharts:', error);\n",
              "      }\n",
              "      quickchartButtonEl.classList.remove('colab-df-spinner');\n",
              "      quickchartButtonEl.classList.add('colab-df-quickchart-complete');\n",
              "    }\n",
              "    (() => {\n",
              "      let quickchartButtonEl =\n",
              "        document.querySelector('#df-07229e64-2d5e-4ded-b092-abfb0577816f button');\n",
              "      quickchartButtonEl.style.display =\n",
              "        google.colab.kernel.accessAllowed ? 'block' : 'none';\n",
              "    })();\n",
              "  </script>\n",
              "</div>\n",
              "    </div>\n",
              "  </div>\n"
            ]
          },
          "metadata": {},
          "execution_count": 7
        }
      ]
    },
    {
      "cell_type": "code",
      "source": [
        "# statistical description\n",
        "df.describe()"
      ],
      "metadata": {
        "colab": {
          "base_uri": "https://localhost:8080/",
          "height": 317
        },
        "id": "pWGAaXJNl-5v",
        "outputId": "27bcbc6b-f4df-4982-ef61-6b40757f49c0"
      },
      "execution_count": null,
      "outputs": [
        {
          "output_type": "execute_result",
          "data": {
            "text/plain": [
              "       Encoded Systemic Illness   Rectal Pain   Sore Throat  Penile Oedema  \\\n",
              "count              24998.000000  24997.000000  25000.000000   24994.000000   \n",
              "mean                   1.497640      0.493819      0.502160       0.504441   \n",
              "std                    1.116872      0.499972      0.500005       0.499990   \n",
              "min                    0.000000      0.000000      0.000000       0.000000   \n",
              "25%                    1.000000      0.000000      0.000000       0.000000   \n",
              "50%                    1.000000      0.000000      1.000000       1.000000   \n",
              "75%                    3.000000      1.000000      1.000000       1.000000   \n",
              "max                    3.000000      1.000000      1.000000       1.000000   \n",
              "\n",
              "       Solitary Lesion  Swollen Tonsils  HIV Infection  \\\n",
              "count     25000.000000     24993.000000   24995.000000   \n",
              "mean          0.501080         0.501260       0.503301   \n",
              "std           0.500009         0.500008       0.499999   \n",
              "min           0.000000         0.000000       0.000000   \n",
              "25%           0.000000         0.000000       0.000000   \n",
              "50%           1.000000         1.000000       1.000000   \n",
              "75%           1.000000         1.000000       1.000000   \n",
              "max           1.000000         1.000000       1.000000   \n",
              "\n",
              "       Sexually Transmitted Infection  \n",
              "count                    24996.000000  \n",
              "mean                         0.497880  \n",
              "std                          0.500006  \n",
              "min                          0.000000  \n",
              "25%                          0.000000  \n",
              "50%                          0.000000  \n",
              "75%                          1.000000  \n",
              "max                          1.000000  "
            ],
            "text/html": [
              "\n",
              "  <div id=\"df-fc3014e1-adc6-4a63-a504-b22ea3a3a55f\" class=\"colab-df-container\">\n",
              "    <div>\n",
              "<style scoped>\n",
              "    .dataframe tbody tr th:only-of-type {\n",
              "        vertical-align: middle;\n",
              "    }\n",
              "\n",
              "    .dataframe tbody tr th {\n",
              "        vertical-align: top;\n",
              "    }\n",
              "\n",
              "    .dataframe thead th {\n",
              "        text-align: right;\n",
              "    }\n",
              "</style>\n",
              "<table border=\"1\" class=\"dataframe\">\n",
              "  <thead>\n",
              "    <tr style=\"text-align: right;\">\n",
              "      <th></th>\n",
              "      <th>Encoded Systemic Illness</th>\n",
              "      <th>Rectal Pain</th>\n",
              "      <th>Sore Throat</th>\n",
              "      <th>Penile Oedema</th>\n",
              "      <th>Solitary Lesion</th>\n",
              "      <th>Swollen Tonsils</th>\n",
              "      <th>HIV Infection</th>\n",
              "      <th>Sexually Transmitted Infection</th>\n",
              "    </tr>\n",
              "  </thead>\n",
              "  <tbody>\n",
              "    <tr>\n",
              "      <th>count</th>\n",
              "      <td>24998.000000</td>\n",
              "      <td>24997.000000</td>\n",
              "      <td>25000.000000</td>\n",
              "      <td>24994.000000</td>\n",
              "      <td>25000.000000</td>\n",
              "      <td>24993.000000</td>\n",
              "      <td>24995.000000</td>\n",
              "      <td>24996.000000</td>\n",
              "    </tr>\n",
              "    <tr>\n",
              "      <th>mean</th>\n",
              "      <td>1.497640</td>\n",
              "      <td>0.493819</td>\n",
              "      <td>0.502160</td>\n",
              "      <td>0.504441</td>\n",
              "      <td>0.501080</td>\n",
              "      <td>0.501260</td>\n",
              "      <td>0.503301</td>\n",
              "      <td>0.497880</td>\n",
              "    </tr>\n",
              "    <tr>\n",
              "      <th>std</th>\n",
              "      <td>1.116872</td>\n",
              "      <td>0.499972</td>\n",
              "      <td>0.500005</td>\n",
              "      <td>0.499990</td>\n",
              "      <td>0.500009</td>\n",
              "      <td>0.500008</td>\n",
              "      <td>0.499999</td>\n",
              "      <td>0.500006</td>\n",
              "    </tr>\n",
              "    <tr>\n",
              "      <th>min</th>\n",
              "      <td>0.000000</td>\n",
              "      <td>0.000000</td>\n",
              "      <td>0.000000</td>\n",
              "      <td>0.000000</td>\n",
              "      <td>0.000000</td>\n",
              "      <td>0.000000</td>\n",
              "      <td>0.000000</td>\n",
              "      <td>0.000000</td>\n",
              "    </tr>\n",
              "    <tr>\n",
              "      <th>25%</th>\n",
              "      <td>1.000000</td>\n",
              "      <td>0.000000</td>\n",
              "      <td>0.000000</td>\n",
              "      <td>0.000000</td>\n",
              "      <td>0.000000</td>\n",
              "      <td>0.000000</td>\n",
              "      <td>0.000000</td>\n",
              "      <td>0.000000</td>\n",
              "    </tr>\n",
              "    <tr>\n",
              "      <th>50%</th>\n",
              "      <td>1.000000</td>\n",
              "      <td>0.000000</td>\n",
              "      <td>1.000000</td>\n",
              "      <td>1.000000</td>\n",
              "      <td>1.000000</td>\n",
              "      <td>1.000000</td>\n",
              "      <td>1.000000</td>\n",
              "      <td>0.000000</td>\n",
              "    </tr>\n",
              "    <tr>\n",
              "      <th>75%</th>\n",
              "      <td>3.000000</td>\n",
              "      <td>1.000000</td>\n",
              "      <td>1.000000</td>\n",
              "      <td>1.000000</td>\n",
              "      <td>1.000000</td>\n",
              "      <td>1.000000</td>\n",
              "      <td>1.000000</td>\n",
              "      <td>1.000000</td>\n",
              "    </tr>\n",
              "    <tr>\n",
              "      <th>max</th>\n",
              "      <td>3.000000</td>\n",
              "      <td>1.000000</td>\n",
              "      <td>1.000000</td>\n",
              "      <td>1.000000</td>\n",
              "      <td>1.000000</td>\n",
              "      <td>1.000000</td>\n",
              "      <td>1.000000</td>\n",
              "      <td>1.000000</td>\n",
              "    </tr>\n",
              "  </tbody>\n",
              "</table>\n",
              "</div>\n",
              "    <div class=\"colab-df-buttons\">\n",
              "\n",
              "  <div class=\"colab-df-container\">\n",
              "    <button class=\"colab-df-convert\" onclick=\"convertToInteractive('df-fc3014e1-adc6-4a63-a504-b22ea3a3a55f')\"\n",
              "            title=\"Convert this dataframe to an interactive table.\"\n",
              "            style=\"display:none;\">\n",
              "\n",
              "  <svg xmlns=\"http://www.w3.org/2000/svg\" height=\"24px\" viewBox=\"0 -960 960 960\">\n",
              "    <path d=\"M120-120v-720h720v720H120Zm60-500h600v-160H180v160Zm220 220h160v-160H400v160Zm0 220h160v-160H400v160ZM180-400h160v-160H180v160Zm440 0h160v-160H620v160ZM180-180h160v-160H180v160Zm440 0h160v-160H620v160Z\"/>\n",
              "  </svg>\n",
              "    </button>\n",
              "\n",
              "  <style>\n",
              "    .colab-df-container {\n",
              "      display:flex;\n",
              "      gap: 12px;\n",
              "    }\n",
              "\n",
              "    .colab-df-convert {\n",
              "      background-color: #E8F0FE;\n",
              "      border: none;\n",
              "      border-radius: 50%;\n",
              "      cursor: pointer;\n",
              "      display: none;\n",
              "      fill: #1967D2;\n",
              "      height: 32px;\n",
              "      padding: 0 0 0 0;\n",
              "      width: 32px;\n",
              "    }\n",
              "\n",
              "    .colab-df-convert:hover {\n",
              "      background-color: #E2EBFA;\n",
              "      box-shadow: 0px 1px 2px rgba(60, 64, 67, 0.3), 0px 1px 3px 1px rgba(60, 64, 67, 0.15);\n",
              "      fill: #174EA6;\n",
              "    }\n",
              "\n",
              "    .colab-df-buttons div {\n",
              "      margin-bottom: 4px;\n",
              "    }\n",
              "\n",
              "    [theme=dark] .colab-df-convert {\n",
              "      background-color: #3B4455;\n",
              "      fill: #D2E3FC;\n",
              "    }\n",
              "\n",
              "    [theme=dark] .colab-df-convert:hover {\n",
              "      background-color: #434B5C;\n",
              "      box-shadow: 0px 1px 3px 1px rgba(0, 0, 0, 0.15);\n",
              "      filter: drop-shadow(0px 1px 2px rgba(0, 0, 0, 0.3));\n",
              "      fill: #FFFFFF;\n",
              "    }\n",
              "  </style>\n",
              "\n",
              "    <script>\n",
              "      const buttonEl =\n",
              "        document.querySelector('#df-fc3014e1-adc6-4a63-a504-b22ea3a3a55f button.colab-df-convert');\n",
              "      buttonEl.style.display =\n",
              "        google.colab.kernel.accessAllowed ? 'block' : 'none';\n",
              "\n",
              "      async function convertToInteractive(key) {\n",
              "        const element = document.querySelector('#df-fc3014e1-adc6-4a63-a504-b22ea3a3a55f');\n",
              "        const dataTable =\n",
              "          await google.colab.kernel.invokeFunction('convertToInteractive',\n",
              "                                                    [key], {});\n",
              "        if (!dataTable) return;\n",
              "\n",
              "        const docLinkHtml = 'Like what you see? Visit the ' +\n",
              "          '<a target=\"_blank\" href=https://colab.research.google.com/notebooks/data_table.ipynb>data table notebook</a>'\n",
              "          + ' to learn more about interactive tables.';\n",
              "        element.innerHTML = '';\n",
              "        dataTable['output_type'] = 'display_data';\n",
              "        await google.colab.output.renderOutput(dataTable, element);\n",
              "        const docLink = document.createElement('div');\n",
              "        docLink.innerHTML = docLinkHtml;\n",
              "        element.appendChild(docLink);\n",
              "      }\n",
              "    </script>\n",
              "  </div>\n",
              "\n",
              "\n",
              "<div id=\"df-bcecd553-890d-4b20-b84c-df4bc8e5a4d1\">\n",
              "  <button class=\"colab-df-quickchart\" onclick=\"quickchart('df-bcecd553-890d-4b20-b84c-df4bc8e5a4d1')\"\n",
              "            title=\"Suggest charts\"\n",
              "            style=\"display:none;\">\n",
              "\n",
              "<svg xmlns=\"http://www.w3.org/2000/svg\" height=\"24px\"viewBox=\"0 0 24 24\"\n",
              "     width=\"24px\">\n",
              "    <g>\n",
              "        <path d=\"M19 3H5c-1.1 0-2 .9-2 2v14c0 1.1.9 2 2 2h14c1.1 0 2-.9 2-2V5c0-1.1-.9-2-2-2zM9 17H7v-7h2v7zm4 0h-2V7h2v10zm4 0h-2v-4h2v4z\"/>\n",
              "    </g>\n",
              "</svg>\n",
              "  </button>\n",
              "\n",
              "<style>\n",
              "  .colab-df-quickchart {\n",
              "      --bg-color: #E8F0FE;\n",
              "      --fill-color: #1967D2;\n",
              "      --hover-bg-color: #E2EBFA;\n",
              "      --hover-fill-color: #174EA6;\n",
              "      --disabled-fill-color: #AAA;\n",
              "      --disabled-bg-color: #DDD;\n",
              "  }\n",
              "\n",
              "  [theme=dark] .colab-df-quickchart {\n",
              "      --bg-color: #3B4455;\n",
              "      --fill-color: #D2E3FC;\n",
              "      --hover-bg-color: #434B5C;\n",
              "      --hover-fill-color: #FFFFFF;\n",
              "      --disabled-bg-color: #3B4455;\n",
              "      --disabled-fill-color: #666;\n",
              "  }\n",
              "\n",
              "  .colab-df-quickchart {\n",
              "    background-color: var(--bg-color);\n",
              "    border: none;\n",
              "    border-radius: 50%;\n",
              "    cursor: pointer;\n",
              "    display: none;\n",
              "    fill: var(--fill-color);\n",
              "    height: 32px;\n",
              "    padding: 0;\n",
              "    width: 32px;\n",
              "  }\n",
              "\n",
              "  .colab-df-quickchart:hover {\n",
              "    background-color: var(--hover-bg-color);\n",
              "    box-shadow: 0 1px 2px rgba(60, 64, 67, 0.3), 0 1px 3px 1px rgba(60, 64, 67, 0.15);\n",
              "    fill: var(--button-hover-fill-color);\n",
              "  }\n",
              "\n",
              "  .colab-df-quickchart-complete:disabled,\n",
              "  .colab-df-quickchart-complete:disabled:hover {\n",
              "    background-color: var(--disabled-bg-color);\n",
              "    fill: var(--disabled-fill-color);\n",
              "    box-shadow: none;\n",
              "  }\n",
              "\n",
              "  .colab-df-spinner {\n",
              "    border: 2px solid var(--fill-color);\n",
              "    border-color: transparent;\n",
              "    border-bottom-color: var(--fill-color);\n",
              "    animation:\n",
              "      spin 1s steps(1) infinite;\n",
              "  }\n",
              "\n",
              "  @keyframes spin {\n",
              "    0% {\n",
              "      border-color: transparent;\n",
              "      border-bottom-color: var(--fill-color);\n",
              "      border-left-color: var(--fill-color);\n",
              "    }\n",
              "    20% {\n",
              "      border-color: transparent;\n",
              "      border-left-color: var(--fill-color);\n",
              "      border-top-color: var(--fill-color);\n",
              "    }\n",
              "    30% {\n",
              "      border-color: transparent;\n",
              "      border-left-color: var(--fill-color);\n",
              "      border-top-color: var(--fill-color);\n",
              "      border-right-color: var(--fill-color);\n",
              "    }\n",
              "    40% {\n",
              "      border-color: transparent;\n",
              "      border-right-color: var(--fill-color);\n",
              "      border-top-color: var(--fill-color);\n",
              "    }\n",
              "    60% {\n",
              "      border-color: transparent;\n",
              "      border-right-color: var(--fill-color);\n",
              "    }\n",
              "    80% {\n",
              "      border-color: transparent;\n",
              "      border-right-color: var(--fill-color);\n",
              "      border-bottom-color: var(--fill-color);\n",
              "    }\n",
              "    90% {\n",
              "      border-color: transparent;\n",
              "      border-bottom-color: var(--fill-color);\n",
              "    }\n",
              "  }\n",
              "</style>\n",
              "\n",
              "  <script>\n",
              "    async function quickchart(key) {\n",
              "      const quickchartButtonEl =\n",
              "        document.querySelector('#' + key + ' button');\n",
              "      quickchartButtonEl.disabled = true;  // To prevent multiple clicks.\n",
              "      quickchartButtonEl.classList.add('colab-df-spinner');\n",
              "      try {\n",
              "        const charts = await google.colab.kernel.invokeFunction(\n",
              "            'suggestCharts', [key], {});\n",
              "      } catch (error) {\n",
              "        console.error('Error during call to suggestCharts:', error);\n",
              "      }\n",
              "      quickchartButtonEl.classList.remove('colab-df-spinner');\n",
              "      quickchartButtonEl.classList.add('colab-df-quickchart-complete');\n",
              "    }\n",
              "    (() => {\n",
              "      let quickchartButtonEl =\n",
              "        document.querySelector('#df-bcecd553-890d-4b20-b84c-df4bc8e5a4d1 button');\n",
              "      quickchartButtonEl.style.display =\n",
              "        google.colab.kernel.accessAllowed ? 'block' : 'none';\n",
              "    })();\n",
              "  </script>\n",
              "</div>\n",
              "    </div>\n",
              "  </div>\n"
            ]
          },
          "metadata": {},
          "execution_count": 8
        }
      ]
    },
    {
      "cell_type": "code",
      "source": [
        "df.info()"
      ],
      "metadata": {
        "colab": {
          "base_uri": "https://localhost:8080/"
        },
        "id": "fCRfJYJC1MLT",
        "outputId": "53e23649-3397-4f76-f590-800036943120"
      },
      "execution_count": null,
      "outputs": [
        {
          "output_type": "stream",
          "name": "stdout",
          "text": [
            "<class 'pandas.core.frame.DataFrame'>\n",
            "RangeIndex: 25000 entries, 0 to 24999\n",
            "Data columns (total 11 columns):\n",
            " #   Column                          Non-Null Count  Dtype  \n",
            "---  ------                          --------------  -----  \n",
            " 0   Encoded Systemic Illness        24998 non-null  float64\n",
            " 1   Rectal Pain                     24997 non-null  float64\n",
            " 2   Sore Throat                     25000 non-null  int64  \n",
            " 3   Penile Oedema                   24994 non-null  float64\n",
            " 4   Oral Lesions                    24996 non-null  object \n",
            " 5   Solitary Lesion                 25000 non-null  int64  \n",
            " 6   Swollen Tonsils                 24993 non-null  float64\n",
            " 7   HIV Infection                   24995 non-null  float64\n",
            " 8   Age                             24964 non-null  object \n",
            " 9   Sexually Transmitted Infection  24996 non-null  float64\n",
            " 10  MPOX PCR Result                 25000 non-null  object \n",
            "dtypes: float64(6), int64(2), object(3)\n",
            "memory usage: 2.1+ MB\n"
          ]
        }
      ]
    },
    {
      "cell_type": "code",
      "source": [
        "# measurement scale type\n",
        "df.dtypes"
      ],
      "metadata": {
        "colab": {
          "base_uri": "https://localhost:8080/"
        },
        "id": "eXkIpz5Wtf6L",
        "outputId": "2564a117-2a82-43a5-f276-f92efa6fd54c"
      },
      "execution_count": null,
      "outputs": [
        {
          "output_type": "execute_result",
          "data": {
            "text/plain": [
              "Encoded Systemic Illness          float64\n",
              "Rectal Pain                       float64\n",
              "Sore Throat                         int64\n",
              "Penile Oedema                     float64\n",
              "Oral Lesions                       object\n",
              "Solitary Lesion                     int64\n",
              "Swollen Tonsils                   float64\n",
              "HIV Infection                     float64\n",
              "Age                                object\n",
              "Sexually Transmitted Infection    float64\n",
              "MPOX PCR Result                    object\n",
              "dtype: object"
            ]
          },
          "metadata": {},
          "execution_count": 10
        }
      ]
    },
    {
      "cell_type": "code",
      "source": [
        "# distribution of class variable: using Count\n",
        "df['MPOX PCR Result'].value_counts().plot(kind='bar')\n",
        "plt.title(\"Distribution of MPOX PCR Result\")\n",
        "plt.xlabel(\"MPOX PCR Result\")\n",
        "plt.ylabel(\"Count\")\n",
        "plt.show()"
      ],
      "metadata": {
        "colab": {
          "base_uri": "https://localhost:8080/",
          "height": 520
        },
        "id": "SISn5T96mTgv",
        "outputId": "c94fd16a-0294-4ed3-f464-d84558540f1e"
      },
      "execution_count": null,
      "outputs": [
        {
          "output_type": "display_data",
          "data": {
            "text/plain": [
              "<Figure size 640x480 with 1 Axes>"
            ],
            "image/png": "[encoded data removed]"
          },
          "metadata": {}
        }
      ]
    },
    {
      "cell_type": "markdown",
      "source": [
        "**Check For Null**"
      ],
      "metadata": {
        "id": "wpCXFW6yvyWB"
      }
    },
    {
      "cell_type": "code",
      "source": [
        "df.isnull().sum()"
      ],
      "metadata": {
        "colab": {
          "base_uri": "https://localhost:8080/"
        },
        "id": "Zerlxl6cmyiC",
        "outputId": "f2fc543d-ca99-413e-d808-33485ece6317"
      },
      "execution_count": null,
      "outputs": [
        {
          "output_type": "execute_result",
          "data": {
            "text/plain": [
              "Encoded Systemic Illness           2\n",
              "Rectal Pain                        3\n",
              "Sore Throat                        0\n",
              "Penile Oedema                      6\n",
              "Oral Lesions                       4\n",
              "Solitary Lesion                    0\n",
              "Swollen Tonsils                    7\n",
              "HIV Infection                      5\n",
              "Age                               36\n",
              "Sexually Transmitted Infection     4\n",
              "MPOX PCR Result                    0\n",
              "dtype: int64"
            ]
          },
          "metadata": {},
          "execution_count": 12
        }
      ]
    },
    {
      "cell_type": "code",
      "source": [
        "percent_missing = df.isnull().sum() * 100 / len(df)\n",
        "percent_missing"
      ],
      "metadata": {
        "colab": {
          "base_uri": "https://localhost:8080/"
        },
        "id": "_4PWx_y6mySy",
        "outputId": "f2edb52c-a38a-4c6e-8a4a-78575013d2e1"
      },
      "execution_count": null,
      "outputs": [
        {
          "output_type": "execute_result",
          "data": {
            "text/plain": [
              "Encoded Systemic Illness          0.008\n",
              "Rectal Pain                       0.012\n",
              "Sore Throat                       0.000\n",
              "Penile Oedema                     0.024\n",
              "Oral Lesions                      0.016\n",
              "Solitary Lesion                   0.000\n",
              "Swollen Tonsils                   0.028\n",
              "HIV Infection                     0.020\n",
              "Age                               0.144\n",
              "Sexually Transmitted Infection    0.016\n",
              "MPOX PCR Result                   0.000\n",
              "dtype: float64"
            ]
          },
          "metadata": {},
          "execution_count": 13
        }
      ]
    },
    {
      "cell_type": "markdown",
      "source": [
        "**Consider Categorical Values**"
      ],
      "metadata": {
        "id": "uVqo-uAVyNiV"
      }
    },
    {
      "cell_type": "code",
      "source": [
        "columns = ['Encoded Systemic Illness','Rectal Pain','Penile Oedema','Oral Lesions','Swollen Tonsils','HIV Infection','Sexually Transmitted Infection']"
      ],
      "metadata": {
        "id": "hYQ5QlTjyMCA"
      },
      "execution_count": null,
      "outputs": []
    },
    {
      "cell_type": "code",
      "source": [
        "#finding unique values\n",
        "for i in columns:\n",
        "  na_vals= df[i].value_counts(dropna=False)\n",
        "  print(\"-\"*100)\n",
        "  print(f\"Count for each group value in column '{i}':\")\n",
        "  print(\"-\"*100)\n",
        "  print(na_vals)\n",
        "  print(\"-\"*100)\n",
        "  # print(\"\\n\")"
      ],
      "metadata": {
        "colab": {
          "base_uri": "https://localhost:8080/"
        },
        "id": "8f0McFsNnaZZ",
        "outputId": "4554d3d0-6567-46de-be2b-101b1720db0a"
      },
      "execution_count": null,
      "outputs": [
        {
          "output_type": "stream",
          "name": "stdout",
          "text": [
            "----------------------------------------------------------------------------------------------------\n",
            "Count for each group value in column 'Encoded Systemic Illness':\n",
            "----------------------------------------------------------------------------------------------------\n",
            "1.0    6382\n",
            "3.0    6252\n",
            "0.0    6214\n",
            "2.0    6150\n",
            "NaN       2\n",
            "Name: Encoded Systemic Illness, dtype: int64\n",
            "----------------------------------------------------------------------------------------------------\n",
            "----------------------------------------------------------------------------------------------------\n",
            "Count for each group value in column 'Rectal Pain':\n",
            "----------------------------------------------------------------------------------------------------\n",
            "0.0    12653\n",
            "1.0    12344\n",
            "NaN        3\n",
            "Name: Rectal Pain, dtype: int64\n",
            "----------------------------------------------------------------------------------------------------\n",
            "----------------------------------------------------------------------------------------------------\n",
            "Count for each group value in column 'Penile Oedema':\n",
            "----------------------------------------------------------------------------------------------------\n",
            "1.0    12608\n",
            "0.0    12386\n",
            "NaN        6\n",
            "Name: Penile Oedema, dtype: int64\n",
            "----------------------------------------------------------------------------------------------------\n",
            "----------------------------------------------------------------------------------------------------\n",
            "Count for each group value in column 'Oral Lesions':\n",
            "----------------------------------------------------------------------------------------------------\n",
            "0      12504\n",
            "1      12481\n",
            "No         7\n",
            "NaN        4\n",
            "YES        4\n",
            "Name: Oral Lesions, dtype: int64\n",
            "----------------------------------------------------------------------------------------------------\n",
            "----------------------------------------------------------------------------------------------------\n",
            "Count for each group value in column 'Swollen Tonsils':\n",
            "----------------------------------------------------------------------------------------------------\n",
            "1.0    12528\n",
            "0.0    12465\n",
            "NaN        7\n",
            "Name: Swollen Tonsils, dtype: int64\n",
            "----------------------------------------------------------------------------------------------------\n",
            "----------------------------------------------------------------------------------------------------\n",
            "Count for each group value in column 'HIV Infection':\n",
            "----------------------------------------------------------------------------------------------------\n",
            "1.0    12580\n",
            "0.0    12415\n",
            "NaN        5\n",
            "Name: HIV Infection, dtype: int64\n",
            "----------------------------------------------------------------------------------------------------\n",
            "----------------------------------------------------------------------------------------------------\n",
            "Count for each group value in column 'Sexually Transmitted Infection':\n",
            "----------------------------------------------------------------------------------------------------\n",
            "0.0    12551\n",
            "1.0    12445\n",
            "NaN        4\n",
            "Name: Sexually Transmitted Infection, dtype: int64\n",
            "----------------------------------------------------------------------------------------------------\n"
          ]
        }
      ]
    },
    {
      "cell_type": "markdown",
      "source": [
        "Oral Lesions Contains 'Yes' or 'No'. Let's replaced with 1 or 0 respectively."
      ],
      "metadata": {
        "id": "36U8c8-wwbnN"
      }
    },
    {
      "cell_type": "code",
      "source": [
        "df['Oral Lesions'] = df['Oral Lesions'].str.lower().replace({'yes': 1, 'no': 0})"
      ],
      "metadata": {
        "id": "DORoCPw-LZoO"
      },
      "execution_count": null,
      "outputs": []
    },
    {
      "cell_type": "code",
      "source": [
        "df['Oral Lesions'].value_counts(dropna=False)"
      ],
      "metadata": {
        "colab": {
          "base_uri": "https://localhost:8080/"
        },
        "id": "PqkHBWwnLZxV",
        "outputId": "855cadb7-7ca6-41ea-8d1e-e1d352808429"
      },
      "execution_count": null,
      "outputs": [
        {
          "output_type": "execute_result",
          "data": {
            "text/plain": [
              "0      12504\n",
              "1      12481\n",
              "0          7\n",
              "NaN        4\n",
              "1          4\n",
              "Name: Oral Lesions, dtype: int64"
            ]
          },
          "metadata": {},
          "execution_count": 17
        }
      ]
    },
    {
      "cell_type": "code",
      "source": [
        "# to convert to right column type , we need to handle NAN which is floating type\n",
        "#df['Oral Lesions'] = df['Oral Lesions'].astype('float64')\n",
        "#this is to converting column to int and handling NAN values as int type\n",
        "df['Oral Lesions'] = pd.to_numeric(df['Oral Lesions'], errors='coerce').astype('Int64')"
      ],
      "metadata": {
        "id": "JVdBqvnXLZ2-"
      },
      "execution_count": null,
      "outputs": []
    },
    {
      "cell_type": "code",
      "source": [
        "df['Oral Lesions'].value_counts(dropna=False)"
      ],
      "metadata": {
        "colab": {
          "base_uri": "https://localhost:8080/"
        },
        "id": "t_Tcd6MLLjRE",
        "outputId": "aa217160-a1fd-4a9e-fe64-807452b5df7a"
      },
      "execution_count": null,
      "outputs": [
        {
          "output_type": "execute_result",
          "data": {
            "text/plain": [
              "0       12511\n",
              "1       12485\n",
              "<NA>        4\n",
              "Name: Oral Lesions, dtype: Int64"
            ]
          },
          "metadata": {},
          "execution_count": 19
        }
      ]
    },
    {
      "cell_type": "code",
      "source": [
        "#simple mode shows the highest frequency in that column\n",
        "for i in columns:\n",
        "  mode_columns= df[i].mode()\n",
        "  print(\"-\"*100)\n",
        "  print(f\"Simple Mode for each column '{i}':\")\n",
        "  print(\"-\"*100)\n",
        "  print(mode_columns)\n",
        "  print(\"-\"*100)\n",
        "  # print(\"\\n\")"
      ],
      "metadata": {
        "colab": {
          "base_uri": "https://localhost:8080/"
        },
        "id": "7FpFdyoQv53W",
        "outputId": "0e676b85-9ae5-48da-d9d0-8f9334debdbd"
      },
      "execution_count": null,
      "outputs": [
        {
          "output_type": "stream",
          "name": "stdout",
          "text": [
            "----------------------------------------------------------------------------------------------------\n",
            "Simple Mode for each column 'Encoded Systemic Illness':\n",
            "----------------------------------------------------------------------------------------------------\n",
            "0    1.0\n",
            "Name: Encoded Systemic Illness, dtype: float64\n",
            "----------------------------------------------------------------------------------------------------\n",
            "----------------------------------------------------------------------------------------------------\n",
            "Simple Mode for each column 'Rectal Pain':\n",
            "----------------------------------------------------------------------------------------------------\n",
            "0    0.0\n",
            "Name: Rectal Pain, dtype: float64\n",
            "----------------------------------------------------------------------------------------------------\n",
            "----------------------------------------------------------------------------------------------------\n",
            "Simple Mode for each column 'Penile Oedema':\n",
            "----------------------------------------------------------------------------------------------------\n",
            "0    1.0\n",
            "Name: Penile Oedema, dtype: float64\n",
            "----------------------------------------------------------------------------------------------------\n",
            "----------------------------------------------------------------------------------------------------\n",
            "Simple Mode for each column 'Oral Lesions':\n",
            "----------------------------------------------------------------------------------------------------\n",
            "0    0\n",
            "Name: Oral Lesions, dtype: Int64\n",
            "----------------------------------------------------------------------------------------------------\n",
            "----------------------------------------------------------------------------------------------------\n",
            "Simple Mode for each column 'Swollen Tonsils':\n",
            "----------------------------------------------------------------------------------------------------\n",
            "0    1.0\n",
            "Name: Swollen Tonsils, dtype: float64\n",
            "----------------------------------------------------------------------------------------------------\n",
            "----------------------------------------------------------------------------------------------------\n",
            "Simple Mode for each column 'HIV Infection':\n",
            "----------------------------------------------------------------------------------------------------\n",
            "0    1.0\n",
            "Name: HIV Infection, dtype: float64\n",
            "----------------------------------------------------------------------------------------------------\n",
            "----------------------------------------------------------------------------------------------------\n",
            "Simple Mode for each column 'Sexually Transmitted Infection':\n",
            "----------------------------------------------------------------------------------------------------\n",
            "0    0.0\n",
            "Name: Sexually Transmitted Infection, dtype: float64\n",
            "----------------------------------------------------------------------------------------------------\n"
          ]
        }
      ]
    },
    {
      "cell_type": "markdown",
      "source": [
        "**Check Class Distribution Percentage**"
      ],
      "metadata": {
        "id": "P3EOwDtTxDCe"
      }
    },
    {
      "cell_type": "code",
      "source": [
        "# Loop over columns and calculate the percentage for each unique value with respect to class variable\n",
        "for i in columns:\n",
        "    percentage_df = df.groupby('MPOX PCR Result')[i].value_counts(normalize=True).unstack() * 100\n",
        "    print(\"-\"*100)\n",
        "    print(f\"Percentage DataFrame for '{i}':\")\n",
        "    print(\"-\"*100)\n",
        "    print(percentage_df)\n",
        "    print(\"-\"*100)\n",
        "    # print(\"\\n\")"
      ],
      "metadata": {
        "colab": {
          "base_uri": "https://localhost:8080/"
        },
        "id": "gysUzN_Pnnac",
        "outputId": "5c125fe5-cc02-4226-8190-a305666204d3"
      },
      "execution_count": null,
      "outputs": [
        {
          "output_type": "stream",
          "name": "stdout",
          "text": [
            "----------------------------------------------------------------------------------------------------\n",
            "Percentage DataFrame for 'Encoded Systemic Illness':\n",
            "----------------------------------------------------------------------------------------------------\n",
            "Encoded Systemic Illness        0.0        1.0        2.0        3.0\n",
            "MPOX PCR Result                                                     \n",
            "Negative                  31.796677  17.625701  32.192760  18.384861\n",
            "Positive                  20.893834  30.045886  20.265259  28.795022\n",
            "----------------------------------------------------------------------------------------------------\n",
            "----------------------------------------------------------------------------------------------------\n",
            "Percentage DataFrame for 'Rectal Pain':\n",
            "----------------------------------------------------------------------------------------------------\n",
            "Rectal Pain            0.0        1.0\n",
            "MPOX PCR Result                      \n",
            "Negative         59.922992  40.077008\n",
            "Positive         45.300811  54.699189\n",
            "----------------------------------------------------------------------------------------------------\n",
            "----------------------------------------------------------------------------------------------------\n",
            "Percentage DataFrame for 'Penile Oedema':\n",
            "----------------------------------------------------------------------------------------------------\n",
            "Penile Oedema          0.0        1.0\n",
            "MPOX PCR Result                      \n",
            "Negative         53.647266  46.352734\n",
            "Positive         47.217856  52.782144\n",
            "----------------------------------------------------------------------------------------------------\n",
            "----------------------------------------------------------------------------------------------------\n",
            "Percentage DataFrame for 'Oral Lesions':\n",
            "----------------------------------------------------------------------------------------------------\n",
            "Oral Lesions             0          1\n",
            "MPOX PCR Result                      \n",
            "Negative         53.487349  46.512651\n",
            "Positive         48.088772  51.911228\n",
            "----------------------------------------------------------------------------------------------------\n",
            "----------------------------------------------------------------------------------------------------\n",
            "Percentage DataFrame for 'Swollen Tonsils':\n",
            "----------------------------------------------------------------------------------------------------\n",
            "Swollen Tonsils        0.0        1.0\n",
            "MPOX PCR Result                      \n",
            "Negative         50.742656  49.257344\n",
            "Positive         49.377515  50.622485\n",
            "----------------------------------------------------------------------------------------------------\n",
            "----------------------------------------------------------------------------------------------------\n",
            "Percentage DataFrame for 'HIV Infection':\n",
            "----------------------------------------------------------------------------------------------------\n",
            "HIV Infection          0.0        1.0\n",
            "MPOX PCR Result                      \n",
            "Negative         59.333407  40.666593\n",
            "Positive         44.146127  55.853873\n",
            "----------------------------------------------------------------------------------------------------\n",
            "----------------------------------------------------------------------------------------------------\n",
            "Percentage DataFrame for 'Sexually Transmitted Infection':\n",
            "----------------------------------------------------------------------------------------------------\n",
            "Sexually Transmitted Infection        0.0        1.0\n",
            "MPOX PCR Result                                     \n",
            "Negative                        58.371837  41.628163\n",
            "Positive                        45.548849  54.451151\n",
            "----------------------------------------------------------------------------------------------------\n"
          ]
        }
      ]
    },
    {
      "cell_type": "markdown",
      "source": [
        "**Visualization**"
      ],
      "metadata": {
        "id": "L_VS7720xbSt"
      }
    },
    {
      "cell_type": "code",
      "source": [
        "num_rows = len(df.columns) // 2 + len(df.columns) % 2\n",
        "num_rows"
      ],
      "metadata": {
        "colab": {
          "base_uri": "https://localhost:8080/"
        },
        "id": "EZDVfa1WxgER",
        "outputId": "1ac9a2e8-6d44-4ba8-8a42-a048f8b02daa"
      },
      "execution_count": null,
      "outputs": [
        {
          "output_type": "execute_result",
          "data": {
            "text/plain": [
              "6"
            ]
          },
          "metadata": {},
          "execution_count": 22
        }
      ]
    },
    {
      "cell_type": "markdown",
      "source": [
        "**Find Distribution - Bernoulli distribution - Binary & categorical values**"
      ],
      "metadata": {
        "id": "r-SzxNF04CXm"
      }
    },
    {
      "cell_type": "code",
      "source": [
        "# Set up a 1x3 grid for subplots\n",
        "fig, axes = plt.subplots(num_rows, 2, figsize=(10, 15))\n",
        "\n",
        "# Flatten the axes array to handle different numbers of rows and columns\n",
        "axes = axes.flatten()\n",
        "\n",
        "# Iterate through columns and plot histograms\n",
        "for i, column in enumerate(df.columns):\n",
        "    axes[i].hist(df[column].dropna(), bins=10, alpha=0.5)\n",
        "    axes[i].set_title(f'Histogram of {column}')\n",
        "    axes[i].set_xlabel(column)\n",
        "    axes[i].set_ylabel('Frequency')\n",
        "\n",
        "# Adjust layout\n",
        "plt.tight_layout()\n",
        "plt.show()"
      ],
      "metadata": {
        "colab": {
          "base_uri": "https://localhost:8080/",
          "height": 1000
        },
        "id": "S0h8qFCIxakB",
        "outputId": "54c8a7dc-5a8b-43b4-c76c-ba28920398e2"
      },
      "execution_count": null,
      "outputs": [
        {
          "output_type": "display_data",
          "data": {
            "text/plain": [
              "<Figure size 1000x1500 with 12 Axes>"
            ],
            "image/png": "[encoded data removed]"
          },
          "metadata": {}
        }
      ]
    },
    {
      "cell_type": "markdown",
      "source": [
        "***Calculate mode for each column with respect to the class variable MPOX PCR Result & Impute***"
      ],
      "metadata": {
        "id": "sgg62AOsx2Uc"
      }
    },
    {
      "cell_type": "code",
      "source": [
        "for i in columns:\n",
        "  mode_by_class = df.groupby('MPOX PCR Result')[i].apply(lambda x: x.mode().iloc[0] if not x.mode().empty else None)\n",
        "\n",
        "# Impute missing values in each column with the mode based on class\n",
        "  df[i] = df.apply(lambda row: mode_by_class[row['MPOX PCR Result']] if pd.isna(row[i]) else row[i], axis=1)"
      ],
      "metadata": {
        "id": "XPw5vLe32L1s"
      },
      "execution_count": null,
      "outputs": []
    },
    {
      "cell_type": "code",
      "source": [
        "for i in columns:\n",
        "  na_vals= df[i].value_counts(dropna=False)\n",
        "  print(\"-\"*100)\n",
        "  print(f\"Count for each group value in column after imputing missing values '{i}':\")\n",
        "  print(na_vals)\n",
        "  print(\"-\"*100)\n",
        "  # print(\"\\n\")"
      ],
      "metadata": {
        "colab": {
          "base_uri": "https://localhost:8080/"
        },
        "id": "ZJAmfdHs9kVC",
        "outputId": "44584143-b218-4f33-f4a0-efe84820d151"
      },
      "execution_count": null,
      "outputs": [
        {
          "output_type": "stream",
          "name": "stdout",
          "text": [
            "----------------------------------------------------------------------------------------------------\n",
            "Count for each group value in column after imputing missing values 'Encoded Systemic Illness':\n",
            "1.0    6382\n",
            "3.0    6252\n",
            "0.0    6214\n",
            "2.0    6152\n",
            "Name: Encoded Systemic Illness, dtype: int64\n",
            "----------------------------------------------------------------------------------------------------\n",
            "----------------------------------------------------------------------------------------------------\n",
            "Count for each group value in column after imputing missing values 'Rectal Pain':\n",
            "0.0    12654\n",
            "1.0    12346\n",
            "Name: Rectal Pain, dtype: int64\n",
            "----------------------------------------------------------------------------------------------------\n",
            "----------------------------------------------------------------------------------------------------\n",
            "Count for each group value in column after imputing missing values 'Penile Oedema':\n",
            "1.0    12612\n",
            "0.0    12388\n",
            "Name: Penile Oedema, dtype: int64\n",
            "----------------------------------------------------------------------------------------------------\n",
            "----------------------------------------------------------------------------------------------------\n",
            "Count for each group value in column after imputing missing values 'Oral Lesions':\n",
            "0    12512\n",
            "1    12488\n",
            "Name: Oral Lesions, dtype: int64\n",
            "----------------------------------------------------------------------------------------------------\n",
            "----------------------------------------------------------------------------------------------------\n",
            "Count for each group value in column after imputing missing values 'Swollen Tonsils':\n",
            "1.0    12533\n",
            "0.0    12467\n",
            "Name: Swollen Tonsils, dtype: int64\n",
            "----------------------------------------------------------------------------------------------------\n",
            "----------------------------------------------------------------------------------------------------\n",
            "Count for each group value in column after imputing missing values 'HIV Infection':\n",
            "1.0    12585\n",
            "0.0    12415\n",
            "Name: HIV Infection, dtype: int64\n",
            "----------------------------------------------------------------------------------------------------\n",
            "----------------------------------------------------------------------------------------------------\n",
            "Count for each group value in column after imputing missing values 'Sexually Transmitted Infection':\n",
            "0.0    12552\n",
            "1.0    12448\n",
            "Name: Sexually Transmitted Infection, dtype: int64\n",
            "----------------------------------------------------------------------------------------------------\n"
          ]
        }
      ]
    },
    {
      "cell_type": "markdown",
      "source": [
        "**Continuous Variable - Age**"
      ],
      "metadata": {
        "id": "0Ig6c9PhyXaS"
      }
    },
    {
      "cell_type": "code",
      "source": [
        "unique_values = df['Age'].unique()\n",
        "\n",
        "# Print or further process the unique values\n",
        "print(\"Unique values in the Age column:\", unique_values)"
      ],
      "metadata": {
        "colab": {
          "base_uri": "https://localhost:8080/"
        },
        "id": "pqU_IXJ-p8gD",
        "outputId": "9c9030ab-390f-4b3d-ec7c-bc37eff07ca1"
      },
      "execution_count": null,
      "outputs": [
        {
          "output_type": "stream",
          "name": "stdout",
          "text": [
            "Unique values in the Age column: ['37' '24' '34' '40' '36' '30' '23' '41' '32' '46' '27' '47' '53' '31'\n",
            " '25' '26' '52' '51' '56' '39' '61' '35' '50' '58' '33' '28' '45' nan '59'\n",
            " '38' '57' '54' '55' '43' '60' '42' '44' '48' '49' '29' '150' '0' 'Twenty'\n",
            " '181' '-23']\n"
          ]
        }
      ]
    },
    {
      "cell_type": "code",
      "source": [
        "#Only Twenty Word found, let's replace the String Value to Number\n",
        "df['Age'] = df['Age'].replace('Twenty', 20)"
      ],
      "metadata": {
        "id": "k2THmuc1f8cp"
      },
      "execution_count": null,
      "outputs": []
    },
    {
      "cell_type": "code",
      "source": [
        "unique_values = df['Age'].unique()\n",
        "\n",
        "# Print or further process the unique values\n",
        "print(\"Unique values in the Age column:\", unique_values)"
      ],
      "metadata": {
        "colab": {
          "base_uri": "https://localhost:8080/"
        },
        "id": "YxZo1UcwqpB_",
        "outputId": "2a68dbf7-8321-4a4e-9668-29e1feb71821"
      },
      "execution_count": null,
      "outputs": [
        {
          "output_type": "stream",
          "name": "stdout",
          "text": [
            "Unique values in the Age column: ['37' '24' '34' '40' '36' '30' '23' '41' '32' '46' '27' '47' '53' '31'\n",
            " '25' '26' '52' '51' '56' '39' '61' '35' '50' '58' '33' '28' '45' nan '59'\n",
            " '38' '57' '54' '55' '43' '60' '42' '44' '48' '49' '29' '150' '0' 20 '181'\n",
            " '-23']\n"
          ]
        }
      ]
    },
    {
      "cell_type": "markdown",
      "source": [
        "**Outliers**"
      ],
      "metadata": {
        "id": "pveiHkH9y3__"
      }
    },
    {
      "cell_type": "code",
      "source": [
        "#box plot to show outliers\n",
        "sns.boxplot(df['Age'])\n",
        "\n",
        "# Show the plot\n",
        "plt.show()\n"
      ],
      "metadata": {
        "colab": {
          "base_uri": "https://localhost:8080/",
          "height": 430
        },
        "id": "JUeAgLkNs6YN",
        "outputId": "dbc05d13-b12d-4f16-8164-601e0ce019b8"
      },
      "execution_count": null,
      "outputs": [
        {
          "output_type": "display_data",
          "data": {
            "text/plain": [
              "<Figure size 640x480 with 1 Axes>"
            ],
            "image/png": "[encoded data removed]"
          },
          "metadata": {}
        }
      ]
    },
    {
      "cell_type": "markdown",
      "source": [
        "**Remove Outliers by Replaceing with Mean Value**"
      ],
      "metadata": {
        "id": "GFsIwJP1ztMR"
      }
    },
    {
      "cell_type": "code",
      "source": [
        "df['Age'] = pd.to_numeric(df['Age'], errors='coerce')"
      ],
      "metadata": {
        "id": "kyQGfSIk6xpT"
      },
      "execution_count": null,
      "outputs": []
    },
    {
      "cell_type": "code",
      "source": [
        "# Calculate the mean for the filtered values\n",
        "mean_filtered = df['Age'].mean()\n",
        "print('Mean:', mean_filtered)\n",
        "r_mean=round(int(mean_filtered))\n",
        "print('Round of Mean:', r_mean)"
      ],
      "metadata": {
        "colab": {
          "base_uri": "https://localhost:8080/"
        },
        "id": "TohdaIb5wr3S",
        "outputId": "a6ce7e64-22ab-4cd3-a450-e492a87679a1"
      },
      "execution_count": null,
      "outputs": [
        {
          "output_type": "stream",
          "name": "stdout",
          "text": [
            "Mean: 42.06100785130588\n",
            "Round of Mean: 42\n"
          ]
        }
      ]
    },
    {
      "cell_type": "code",
      "source": [
        "median_age = df['Age'].median()\n",
        "median_age"
      ],
      "metadata": {
        "colab": {
          "base_uri": "https://localhost:8080/"
        },
        "id": "iRCH7A_kw1rP",
        "outputId": "d5809366-7a1a-47f3-ae59-7d7fe17b9f3b"
      },
      "execution_count": null,
      "outputs": [
        {
          "output_type": "execute_result",
          "data": {
            "text/plain": [
              "42.0"
            ]
          },
          "metadata": {},
          "execution_count": 32
        }
      ]
    },
    {
      "cell_type": "code",
      "source": [
        "df['Age'].isnull().sum()"
      ],
      "metadata": {
        "colab": {
          "base_uri": "https://localhost:8080/"
        },
        "id": "24eh94nq11na",
        "outputId": "b5813742-e79c-489d-f393-66b049c99991"
      },
      "execution_count": null,
      "outputs": [
        {
          "output_type": "execute_result",
          "data": {
            "text/plain": [
              "36"
            ]
          },
          "metadata": {},
          "execution_count": 33
        }
      ]
    },
    {
      "cell_type": "code",
      "source": [
        "# Replace values greater than 100 and less than 1 with NaN\n",
        "df['Age'] = np.where((df['Age'] < 1) | (df['Age'] > 100), np.nan, df['Age'])\n",
        "\n",
        "# Replace missing values and values outside the desired range with the median age as Median and Mean are same value 42\n",
        "#median_age = df['Age'].median()\n",
        "#df['Age'] = df['Age'].fillna(median_age)\n",
        "\n",
        "df['Age'] = df['Age'].fillna(r_mean)\n",
        "\n"
      ],
      "metadata": {
        "id": "SEieVPQgzcRo"
      },
      "execution_count": null,
      "outputs": []
    },
    {
      "cell_type": "code",
      "source": [
        "unique_values = df['Age'].unique()\n",
        "\n",
        "# Print or further process the unique values\n",
        "print(\"Unique values in the Age column:\", unique_values)"
      ],
      "metadata": {
        "colab": {
          "base_uri": "https://localhost:8080/"
        },
        "id": "xDNVjVU7rSpQ",
        "outputId": "c3b19683-7a96-4bce-f4a2-bd4a3940bc43"
      },
      "execution_count": null,
      "outputs": [
        {
          "output_type": "stream",
          "name": "stdout",
          "text": [
            "Unique values in the Age column: [37. 24. 34. 40. 36. 30. 23. 41. 32. 46. 27. 47. 53. 31. 25. 26. 52. 51.\n",
            " 56. 39. 61. 35. 50. 58. 33. 28. 45. 42. 59. 38. 57. 54. 55. 43. 60. 44.\n",
            " 48. 49. 29. 20.]\n"
          ]
        }
      ]
    },
    {
      "cell_type": "markdown",
      "source": [
        "**Convert to Integer Data Type**"
      ],
      "metadata": {
        "id": "bIrDtLyY0OrC"
      }
    },
    {
      "cell_type": "code",
      "source": [
        "df['Encoded Systemic Illness'] = pd.to_numeric(df['Encoded Systemic Illness'], errors='coerce').astype('Int64')\n",
        "df['Rectal Pain'] = pd.to_numeric(df['Rectal Pain'], errors='coerce').astype('Int64')\n",
        "df['Penile Oedema'] = pd.to_numeric(df['Penile Oedema'], errors='coerce').astype('Int64')\n",
        "df['Swollen Tonsils'] = pd.to_numeric(df['Swollen Tonsils'], errors='coerce').astype('Int64')\n",
        "df['HIV Infection'] = pd.to_numeric(df['HIV Infection'], errors='coerce').astype('Int64')\n",
        "df['Age'] = pd.to_numeric(df['Age'], errors='coerce').astype('Int64')\n",
        "df['Sexually Transmitted Infection'] = pd.to_numeric(df['Sexually Transmitted Infection'], errors='coerce').astype('Int64')"
      ],
      "metadata": {
        "id": "9c-OF1w1Kk_F"
      },
      "execution_count": null,
      "outputs": []
    },
    {
      "cell_type": "code",
      "source": [
        "df.isnull().sum()"
      ],
      "metadata": {
        "colab": {
          "base_uri": "https://localhost:8080/"
        },
        "id": "pnm-3RXW8idH",
        "outputId": "77ea5729-2894-43ce-ce1f-164a746e4abc"
      },
      "execution_count": null,
      "outputs": [
        {
          "output_type": "execute_result",
          "data": {
            "text/plain": [
              "Encoded Systemic Illness          0\n",
              "Rectal Pain                       0\n",
              "Sore Throat                       0\n",
              "Penile Oedema                     0\n",
              "Oral Lesions                      0\n",
              "Solitary Lesion                   0\n",
              "Swollen Tonsils                   0\n",
              "HIV Infection                     0\n",
              "Age                               0\n",
              "Sexually Transmitted Infection    0\n",
              "MPOX PCR Result                   0\n",
              "dtype: int64"
            ]
          },
          "metadata": {},
          "execution_count": 37
        }
      ]
    },
    {
      "cell_type": "code",
      "source": [
        "df.dtypes"
      ],
      "metadata": {
        "colab": {
          "base_uri": "https://localhost:8080/"
        },
        "id": "5Ye12qVV8iav",
        "outputId": "3935487e-9be5-4d94-9b4c-0bc5d2d371c8"
      },
      "execution_count": null,
      "outputs": [
        {
          "output_type": "execute_result",
          "data": {
            "text/plain": [
              "Encoded Systemic Illness           Int64\n",
              "Rectal Pain                        Int64\n",
              "Sore Throat                        int64\n",
              "Penile Oedema                      Int64\n",
              "Oral Lesions                       int64\n",
              "Solitary Lesion                    int64\n",
              "Swollen Tonsils                    Int64\n",
              "HIV Infection                      Int64\n",
              "Age                                Int64\n",
              "Sexually Transmitted Infection     Int64\n",
              "MPOX PCR Result                   object\n",
              "dtype: object"
            ]
          },
          "metadata": {},
          "execution_count": 38
        }
      ]
    },
    {
      "cell_type": "code",
      "source": [
        "df.shape"
      ],
      "metadata": {
        "colab": {
          "base_uri": "https://localhost:8080/"
        },
        "id": "PJh3cVEX6TVW",
        "outputId": "bdf281a8-b5df-4d4b-f92b-15ac18afbdaa"
      },
      "execution_count": null,
      "outputs": [
        {
          "output_type": "execute_result",
          "data": {
            "text/plain": [
              "(25000, 11)"
            ]
          },
          "metadata": {},
          "execution_count": 39
        }
      ]
    },
    {
      "cell_type": "markdown",
      "source": [
        "**Pre-process DF save to CSV**"
      ],
      "metadata": {
        "id": "FxyMAVIT0U6x"
      }
    },
    {
      "cell_type": "code",
      "source": [
        "#This will save the dataset without the raws indeces\n",
        "df.to_csv(r'/content/Monkeypox.csv', index=False)"
      ],
      "metadata": {
        "id": "ii1rZQ9RKD1f"
      },
      "execution_count": null,
      "outputs": []
    },
    {
      "cell_type": "code",
      "source": [
        "df1= df.copy()"
      ],
      "metadata": {
        "id": "mwwiIZ_AKO-i"
      },
      "execution_count": null,
      "outputs": []
    },
    {
      "cell_type": "markdown",
      "source": [
        "**Manual Label Encoding - Positive & Negative cases as 1 & 0 respectively**"
      ],
      "metadata": {
        "id": "4Kz_feBM0gB2"
      }
    },
    {
      "cell_type": "code",
      "source": [
        "df1['MPOX PCR Result'] = df1['MPOX PCR Result'].map({'Positive': 1, 'Negative': 0})\n",
        "df1.head()"
      ],
      "metadata": {
        "colab": {
          "base_uri": "https://localhost:8080/",
          "height": 241
        },
        "id": "1t2G6W9iLpin",
        "outputId": "102ac4c5-6717-4570-8362-fc19e8481bcf"
      },
      "execution_count": null,
      "outputs": [
        {
          "output_type": "execute_result",
          "data": {
            "text/plain": [
              "   Encoded Systemic Illness  Rectal Pain  Sore Throat  Penile Oedema  \\\n",
              "0                         0            0            1              1   \n",
              "1                         1            1            0              1   \n",
              "2                         1            0            1              1   \n",
              "3                         0            1            0              0   \n",
              "4                         3            1            1              1   \n",
              "\n",
              "   Oral Lesions  Solitary Lesion  Swollen Tonsils  HIV Infection  Age  \\\n",
              "0             1                0                1              0   37   \n",
              "1             1                0                0              1   24   \n",
              "2             0                0                0              1   34   \n",
              "3             0                1                1              1   40   \n",
              "4             0                0                1              1   36   \n",
              "\n",
              "   Sexually Transmitted Infection  MPOX PCR Result  \n",
              "0                               0                0  \n",
              "1                               0                1  \n",
              "2                               0                1  \n",
              "3                               0                1  \n",
              "4                               0                1  "
            ],
            "text/html": [
              "\n",
              "  <div id=\"df-be0f44c0-f7c4-4231-bbe1-9efbc37d4b60\" class=\"colab-df-container\">\n",
              "    <div>\n",
              "<style scoped>\n",
              "    .dataframe tbody tr th:only-of-type {\n",
              "        vertical-align: middle;\n",
              "    }\n",
              "\n",
              "    .dataframe tbody tr th {\n",
              "        vertical-align: top;\n",
              "    }\n",
              "\n",
              "    .dataframe thead th {\n",
              "        text-align: right;\n",
              "    }\n",
              "</style>\n",
              "<table border=\"1\" class=\"dataframe\">\n",
              "  <thead>\n",
              "    <tr style=\"text-align: right;\">\n",
              "      <th></th>\n",
              "      <th>Encoded Systemic Illness</th>\n",
              "      <th>Rectal Pain</th>\n",
              "      <th>Sore Throat</th>\n",
              "      <th>Penile Oedema</th>\n",
              "      <th>Oral Lesions</th>\n",
              "      <th>Solitary Lesion</th>\n",
              "      <th>Swollen Tonsils</th>\n",
              "      <th>HIV Infection</th>\n",
              "      <th>Age</th>\n",
              "      <th>Sexually Transmitted Infection</th>\n",
              "      <th>MPOX PCR Result</th>\n",
              "    </tr>\n",
              "  </thead>\n",
              "  <tbody>\n",
              "    <tr>\n",
              "      <th>0</th>\n",
              "      <td>0</td>\n",
              "      <td>0</td>\n",
              "      <td>1</td>\n",
              "      <td>1</td>\n",
              "      <td>1</td>\n",
              "      <td>0</td>\n",
              "      <td>1</td>\n",
              "      <td>0</td>\n",
              "      <td>37</td>\n",
              "      <td>0</td>\n",
              "      <td>0</td>\n",
              "    </tr>\n",
              "    <tr>\n",
              "      <th>1</th>\n",
              "      <td>1</td>\n",
              "      <td>1</td>\n",
              "      <td>0</td>\n",
              "      <td>1</td>\n",
              "      <td>1</td>\n",
              "      <td>0</td>\n",
              "      <td>0</td>\n",
              "      <td>1</td>\n",
              "      <td>24</td>\n",
              "      <td>0</td>\n",
              "      <td>1</td>\n",
              "    </tr>\n",
              "    <tr>\n",
              "      <th>2</th>\n",
              "      <td>1</td>\n",
              "      <td>0</td>\n",
              "      <td>1</td>\n",
              "      <td>1</td>\n",
              "      <td>0</td>\n",
              "      <td>0</td>\n",
              "      <td>0</td>\n",
              "      <td>1</td>\n",
              "      <td>34</td>\n",
              "      <td>0</td>\n",
              "      <td>1</td>\n",
              "    </tr>\n",
              "    <tr>\n",
              "      <th>3</th>\n",
              "      <td>0</td>\n",
              "      <td>1</td>\n",
              "      <td>0</td>\n",
              "      <td>0</td>\n",
              "      <td>0</td>\n",
              "      <td>1</td>\n",
              "      <td>1</td>\n",
              "      <td>1</td>\n",
              "      <td>40</td>\n",
              "      <td>0</td>\n",
              "      <td>1</td>\n",
              "    </tr>\n",
              "    <tr>\n",
              "      <th>4</th>\n",
              "      <td>3</td>\n",
              "      <td>1</td>\n",
              "      <td>1</td>\n",
              "      <td>1</td>\n",
              "      <td>0</td>\n",
              "      <td>0</td>\n",
              "      <td>1</td>\n",
              "      <td>1</td>\n",
              "      <td>36</td>\n",
              "      <td>0</td>\n",
              "      <td>1</td>\n",
              "    </tr>\n",
              "  </tbody>\n",
              "</table>\n",
              "</div>\n",
              "    <div class=\"colab-df-buttons\">\n",
              "\n",
              "  <div class=\"colab-df-container\">\n",
              "    <button class=\"colab-df-convert\" onclick=\"convertToInteractive('df-be0f44c0-f7c4-4231-bbe1-9efbc37d4b60')\"\n",
              "            title=\"Convert this dataframe to an interactive table.\"\n",
              "            style=\"display:none;\">\n",
              "\n",
              "  <svg xmlns=\"http://www.w3.org/2000/svg\" height=\"24px\" viewBox=\"0 -960 960 960\">\n",
              "    <path d=\"M120-120v-720h720v720H120Zm60-500h600v-160H180v160Zm220 220h160v-160H400v160Zm0 220h160v-160H400v160ZM180-400h160v-160H180v160Zm440 0h160v-160H620v160ZM180-180h160v-160H180v160Zm440 0h160v-160H620v160Z\"/>\n",
              "  </svg>\n",
              "    </button>\n",
              "\n",
              "  <style>\n",
              "    .colab-df-container {\n",
              "      display:flex;\n",
              "      gap: 12px;\n",
              "    }\n",
              "\n",
              "    .colab-df-convert {\n",
              "      background-color: #E8F0FE;\n",
              "      border: none;\n",
              "      border-radius: 50%;\n",
              "      cursor: pointer;\n",
              "      display: none;\n",
              "      fill: #1967D2;\n",
              "      height: 32px;\n",
              "      padding: 0 0 0 0;\n",
              "      width: 32px;\n",
              "    }\n",
              "\n",
              "    .colab-df-convert:hover {\n",
              "      background-color: #E2EBFA;\n",
              "      box-shadow: 0px 1px 2px rgba(60, 64, 67, 0.3), 0px 1px 3px 1px rgba(60, 64, 67, 0.15);\n",
              "      fill: #174EA6;\n",
              "    }\n",
              "\n",
              "    .colab-df-buttons div {\n",
              "      margin-bottom: 4px;\n",
              "    }\n",
              "\n",
              "    [theme=dark] .colab-df-convert {\n",
              "      background-color: #3B4455;\n",
              "      fill: #D2E3FC;\n",
              "    }\n",
              "\n",
              "    [theme=dark] .colab-df-convert:hover {\n",
              "      background-color: #434B5C;\n",
              "      box-shadow: 0px 1px 3px 1px rgba(0, 0, 0, 0.15);\n",
              "      filter: drop-shadow(0px 1px 2px rgba(0, 0, 0, 0.3));\n",
              "      fill: #FFFFFF;\n",
              "    }\n",
              "  </style>\n",
              "\n",
              "    <script>\n",
              "      const buttonEl =\n",
              "        document.querySelector('#df-be0f44c0-f7c4-4231-bbe1-9efbc37d4b60 button.colab-df-convert');\n",
              "      buttonEl.style.display =\n",
              "        google.colab.kernel.accessAllowed ? 'block' : 'none';\n",
              "\n",
              "      async function convertToInteractive(key) {\n",
              "        const element = document.querySelector('#df-be0f44c0-f7c4-4231-bbe1-9efbc37d4b60');\n",
              "        const dataTable =\n",
              "          await google.colab.kernel.invokeFunction('convertToInteractive',\n",
              "                                                    [key], {});\n",
              "        if (!dataTable) return;\n",
              "\n",
              "        const docLinkHtml = 'Like what you see? Visit the ' +\n",
              "          '<a target=\"_blank\" href=https://colab.research.google.com/notebooks/data_table.ipynb>data table notebook</a>'\n",
              "          + ' to learn more about interactive tables.';\n",
              "        element.innerHTML = '';\n",
              "        dataTable['output_type'] = 'display_data';\n",
              "        await google.colab.output.renderOutput(dataTable, element);\n",
              "        const docLink = document.createElement('div');\n",
              "        docLink.innerHTML = docLinkHtml;\n",
              "        element.appendChild(docLink);\n",
              "      }\n",
              "    </script>\n",
              "  </div>\n",
              "\n",
              "\n",
              "<div id=\"df-17de55c5-cf18-4dfe-a418-2f70e0180e75\">\n",
              "  <button class=\"colab-df-quickchart\" onclick=\"quickchart('df-17de55c5-cf18-4dfe-a418-2f70e0180e75')\"\n",
              "            title=\"Suggest charts\"\n",
              "            style=\"display:none;\">\n",
              "\n",
              "<svg xmlns=\"http://www.w3.org/2000/svg\" height=\"24px\"viewBox=\"0 0 24 24\"\n",
              "     width=\"24px\">\n",
              "    <g>\n",
              "        <path d=\"M19 3H5c-1.1 0-2 .9-2 2v14c0 1.1.9 2 2 2h14c1.1 0 2-.9 2-2V5c0-1.1-.9-2-2-2zM9 17H7v-7h2v7zm4 0h-2V7h2v10zm4 0h-2v-4h2v4z\"/>\n",
              "    </g>\n",
              "</svg>\n",
              "  </button>\n",
              "\n",
              "<style>\n",
              "  .colab-df-quickchart {\n",
              "      --bg-color: #E8F0FE;\n",
              "      --fill-color: #1967D2;\n",
              "      --hover-bg-color: #E2EBFA;\n",
              "      --hover-fill-color: #174EA6;\n",
              "      --disabled-fill-color: #AAA;\n",
              "      --disabled-bg-color: #DDD;\n",
              "  }\n",
              "\n",
              "  [theme=dark] .colab-df-quickchart {\n",
              "      --bg-color: #3B4455;\n",
              "      --fill-color: #D2E3FC;\n",
              "      --hover-bg-color: #434B5C;\n",
              "      --hover-fill-color: #FFFFFF;\n",
              "      --disabled-bg-color: #3B4455;\n",
              "      --disabled-fill-color: #666;\n",
              "  }\n",
              "\n",
              "  .colab-df-quickchart {\n",
              "    background-color: var(--bg-color);\n",
              "    border: none;\n",
              "    border-radius: 50%;\n",
              "    cursor: pointer;\n",
              "    display: none;\n",
              "    fill: var(--fill-color);\n",
              "    height: 32px;\n",
              "    padding: 0;\n",
              "    width: 32px;\n",
              "  }\n",
              "\n",
              "  .colab-df-quickchart:hover {\n",
              "    background-color: var(--hover-bg-color);\n",
              "    box-shadow: 0 1px 2px rgba(60, 64, 67, 0.3), 0 1px 3px 1px rgba(60, 64, 67, 0.15);\n",
              "    fill: var(--button-hover-fill-color);\n",
              "  }\n",
              "\n",
              "  .colab-df-quickchart-complete:disabled,\n",
              "  .colab-df-quickchart-complete:disabled:hover {\n",
              "    background-color: var(--disabled-bg-color);\n",
              "    fill: var(--disabled-fill-color);\n",
              "    box-shadow: none;\n",
              "  }\n",
              "\n",
              "  .colab-df-spinner {\n",
              "    border: 2px solid var(--fill-color);\n",
              "    border-color: transparent;\n",
              "    border-bottom-color: var(--fill-color);\n",
              "    animation:\n",
              "      spin 1s steps(1) infinite;\n",
              "  }\n",
              "\n",
              "  @keyframes spin {\n",
              "    0% {\n",
              "      border-color: transparent;\n",
              "      border-bottom-color: var(--fill-color);\n",
              "      border-left-color: var(--fill-color);\n",
              "    }\n",
              "    20% {\n",
              "      border-color: transparent;\n",
              "      border-left-color: var(--fill-color);\n",
              "      border-top-color: var(--fill-color);\n",
              "    }\n",
              "    30% {\n",
              "      border-color: transparent;\n",
              "      border-left-color: var(--fill-color);\n",
              "      border-top-color: var(--fill-color);\n",
              "      border-right-color: var(--fill-color);\n",
              "    }\n",
              "    40% {\n",
              "      border-color: transparent;\n",
              "      border-right-color: var(--fill-color);\n",
              "      border-top-color: var(--fill-color);\n",
              "    }\n",
              "    60% {\n",
              "      border-color: transparent;\n",
              "      border-right-color: var(--fill-color);\n",
              "    }\n",
              "    80% {\n",
              "      border-color: transparent;\n",
              "      border-right-color: var(--fill-color);\n",
              "      border-bottom-color: var(--fill-color);\n",
              "    }\n",
              "    90% {\n",
              "      border-color: transparent;\n",
              "      border-bottom-color: var(--fill-color);\n",
              "    }\n",
              "  }\n",
              "</style>\n",
              "\n",
              "  <script>\n",
              "    async function quickchart(key) {\n",
              "      const quickchartButtonEl =\n",
              "        document.querySelector('#' + key + ' button');\n",
              "      quickchartButtonEl.disabled = true;  // To prevent multiple clicks.\n",
              "      quickchartButtonEl.classList.add('colab-df-spinner');\n",
              "      try {\n",
              "        const charts = await google.colab.kernel.invokeFunction(\n",
              "            'suggestCharts', [key], {});\n",
              "      } catch (error) {\n",
              "        console.error('Error during call to suggestCharts:', error);\n",
              "      }\n",
              "      quickchartButtonEl.classList.remove('colab-df-spinner');\n",
              "      quickchartButtonEl.classList.add('colab-df-quickchart-complete');\n",
              "    }\n",
              "    (() => {\n",
              "      let quickchartButtonEl =\n",
              "        document.querySelector('#df-17de55c5-cf18-4dfe-a418-2f70e0180e75 button');\n",
              "      quickchartButtonEl.style.display =\n",
              "        google.colab.kernel.accessAllowed ? 'block' : 'none';\n",
              "    })();\n",
              "  </script>\n",
              "</div>\n",
              "    </div>\n",
              "  </div>\n"
            ]
          },
          "metadata": {},
          "execution_count": 42
        }
      ]
    },
    {
      "cell_type": "code",
      "source": [
        "df1.to_csv(r'/content/Monkeypox01.csv', index=False)"
      ],
      "metadata": {
        "id": "iyID-fa3McXp"
      },
      "execution_count": null,
      "outputs": []
    },
    {
      "cell_type": "markdown",
      "source": [
        "**Read Pre-Process Data For Model Building**"
      ],
      "metadata": {
        "id": "EunVrWpA00HA"
      }
    },
    {
      "cell_type": "code",
      "source": [
        "df1=pd.read_csv(r'/content/Monkeypox01.csv')"
      ],
      "metadata": {
        "id": "EOwuu37eb-oj"
      },
      "execution_count": null,
      "outputs": []
    },
    {
      "cell_type": "markdown",
      "source": [
        "**#Task 4b says to use only categorical columns, so dropping Age column.**\n",
        "Age is Continuous Variable"
      ],
      "metadata": {
        "id": "QAInfe4Z09Nn"
      }
    },
    {
      "cell_type": "code",
      "source": [
        "plt.hist(df1['Age'])"
      ],
      "metadata": {
        "colab": {
          "base_uri": "https://localhost:8080/",
          "height": 499
        },
        "id": "IvrG95Hd1IdS",
        "outputId": "61f0cc2f-95b7-40d8-fb8b-ee19b293142d"
      },
      "execution_count": null,
      "outputs": [
        {
          "output_type": "execute_result",
          "data": {
            "text/plain": [
              "(array([1229., 2502., 2521., 2622., 2562., 2618., 2674., 2583., 2477.,\n",
              "        3212.]),\n",
              " array([20. , 24.1, 28.2, 32.3, 36.4, 40.5, 44.6, 48.7, 52.8, 56.9, 61. ]),\n",
              " <BarContainer object of 10 artists>)"
            ]
          },
          "metadata": {},
          "execution_count": 45
        },
        {
          "output_type": "display_data",
          "data": {
            "text/plain": [
              "<Figure size 640x480 with 1 Axes>"
            ],
            "image/png": "[encoded data removed]"
          },
          "metadata": {}
        }
      ]
    },
    {
      "cell_type": "markdown",
      "source": [
        "**Features & Target**"
      ],
      "metadata": {
        "id": "wuiV8SLt2L3l"
      }
    },
    {
      "cell_type": "code",
      "source": [
        "columns_to_drop=['Age','MPOX PCR Result']\n",
        "#Features\n",
        "X= df1.drop(columns_to_drop, axis=1)\n",
        "#Target\n",
        "y= df1['MPOX PCR Result']"
      ],
      "metadata": {
        "id": "6rPAFwYEnQTz"
      },
      "execution_count": null,
      "outputs": []
    },
    {
      "cell_type": "code",
      "source": [
        "# Calculate class ratio\n",
        "class_ratios = np.bincount(y) / len(y)\n",
        "\n",
        "# Print the class ratios\n",
        "for class_label, ratio in enumerate(class_ratios):\n",
        "    print(f\"Class {class_label}: {ratio:.2%}\")"
      ],
      "metadata": {
        "colab": {
          "base_uri": "https://localhost:8080/"
        },
        "id": "DuqTlUg13F2y",
        "outputId": "9d86eb4c-1030-42c2-8d57-9e1900f92050"
      },
      "execution_count": null,
      "outputs": [
        {
          "output_type": "stream",
          "name": "stdout",
          "text": [
            "Class 0: 36.36%\n",
            "Class 1: 63.64%\n"
          ]
        }
      ]
    },
    {
      "cell_type": "markdown",
      "source": [
        "**Positive Class have 64% of Data And Negative Class have 36% of Data Creating a 80-20 Split will have more chance of Postive & Negative balanced data with startify**"
      ],
      "metadata": {
        "id": "rFD9FGV83Nfs"
      }
    },
    {
      "cell_type": "code",
      "source": [
        "# Split dataset into training set and test set- 80% training and 20% test\n",
        "from sklearn.model_selection import train_test_split\n",
        "X_train, X_test, y_train, y_test = train_test_split(X, y, test_size=0.2, random_state=42, stratify=y)"
      ],
      "metadata": {
        "id": "WnK3T8r9bBsI"
      },
      "execution_count": null,
      "outputs": []
    },
    {
      "cell_type": "code",
      "source": [
        "np.bincount(y_train)"
      ],
      "metadata": {
        "colab": {
          "base_uri": "https://localhost:8080/"
        },
        "id": "2GrXzrs-9mhg",
        "outputId": "3cb4e53f-a5f8-4c42-8f86-a50803808ec5"
      },
      "execution_count": null,
      "outputs": [
        {
          "output_type": "execute_result",
          "data": {
            "text/plain": [
              "array([ 7273, 12727])"
            ]
          },
          "metadata": {},
          "execution_count": 49
        }
      ]
    },
    {
      "cell_type": "code",
      "source": [
        "np.bincount(y_test)"
      ],
      "metadata": {
        "colab": {
          "base_uri": "https://localhost:8080/"
        },
        "id": "EhsU1PKq-s7g",
        "outputId": "9146f7c7-1791-425d-ef5a-f7fd5c868bba"
      },
      "execution_count": null,
      "outputs": [
        {
          "output_type": "execute_result",
          "data": {
            "text/plain": [
              "array([1818, 3182])"
            ]
          },
          "metadata": {},
          "execution_count": 82
        }
      ]
    },
    {
      "cell_type": "markdown",
      "source": [
        "**For Bernoulli distribution with Class 0 & 1 - We can use MinMax Scaler which will keep the range from (0-1)**"
      ],
      "metadata": {
        "id": "1NuYUgfF4TLx"
      }
    },
    {
      "cell_type": "code",
      "source": [
        "from sklearn.preprocessing import MinMaxScaler\n",
        "scaler = MinMaxScaler()\n",
        "X_train_scaled = scaler.fit_transform(X_train)\n",
        "X_test_scaled = scaler.transform(X_test)\n",
        "# X_val_scaled = scaler.transform(X_val)"
      ],
      "metadata": {
        "id": "yb-UWVApDQLG"
      },
      "execution_count": null,
      "outputs": []
    },
    {
      "cell_type": "code",
      "source": [
        "feature_names = X.columns\n",
        "class_name = 'MPOX PCR Result'\n",
        "\n",
        "print(\"Feature column names\", feature_names)\n",
        "print(\"Feature data shape\",X.shape)\n",
        "print('Class column name',class_name)\n",
        "print(\"Class data shape\",y.shape)\n",
        "print('Taining Set',X_train.shape)\n",
        "print('Testing Set',X_test.shape)"
      ],
      "metadata": {
        "colab": {
          "base_uri": "https://localhost:8080/"
        },
        "id": "o88uy5dn_h1k",
        "outputId": "9e528be0-72bb-44e4-c3c4-144bc4a32d52"
      },
      "execution_count": null,
      "outputs": [
        {
          "output_type": "stream",
          "name": "stdout",
          "text": [
            "Feature column names Index(['Encoded Systemic Illness', 'Rectal Pain', 'Sore Throat',\n",
            "       'Penile Oedema', 'Oral Lesions', 'Solitary Lesion', 'Swollen Tonsils',\n",
            "       'HIV Infection', 'Sexually Transmitted Infection'],\n",
            "      dtype='object')\n",
            "Feature data shape (25000, 9)\n",
            "Class column name MPOX PCR Result\n",
            "Class data shape (25000,)\n",
            "Taining Set (20000, 9)\n",
            "Testing Set (5000, 9)\n"
          ]
        }
      ]
    },
    {
      "cell_type": "code",
      "source": [
        "# Store the Results of Each Model for Comparison\n",
        "dfresults = pd.DataFrame()"
      ],
      "metadata": {
        "id": "iDtAxvJ-4-Se"
      },
      "execution_count": null,
      "outputs": []
    },
    {
      "cell_type": "markdown",
      "source": [
        "**LogisticRegression**"
      ],
      "metadata": {
        "id": "VGdFY2cz4nOv"
      }
    },
    {
      "cell_type": "code",
      "source": [
        "# import the class\n",
        "from sklearn.linear_model import LogisticRegression\n",
        "\n",
        "# instantiate the model\n",
        "logreg = LogisticRegression()\n",
        "logreg.fit(X_train_scaled, y_train)\n",
        "\n",
        "y_pred_lr=logreg.predict(X_test_scaled)\n"
      ],
      "metadata": {
        "id": "TtoZbnW2BwQx"
      },
      "execution_count": null,
      "outputs": []
    },
    {
      "cell_type": "code",
      "source": [
        "# Evaluate the model\n",
        "print(\"Results for the LogisticRegression------\")\n",
        "accuracy = classification_report(y_test, y_pred_lr)\n",
        "rs_test = recall_score(y_test, y_pred_lr)\n",
        "print(\"Recall Score - \" + str(rs_test))\n",
        "print(accuracy)\n",
        "\n",
        "accuracy = classification_report(y_test, y_pred_lr,output_dict=True)\n",
        "df_report = pd.DataFrame(accuracy).transpose()\n",
        "df_report['Model'] = \"LogisticRegression\"\n",
        "df_report['ModelAcc'] = rs_test\n",
        "df_report.reset_index(inplace=True)\n",
        "dfresults = pd.concat([dfresults,df_report])\n",
        "\n",
        "cm = confusion_matrix(y_test, y_pred_lr, labels=logreg.classes_)\n",
        "disp = ConfusionMatrixDisplay(cm,display_labels=logreg.classes_)\n",
        "disp.plot()\n"
      ],
      "metadata": {
        "colab": {
          "base_uri": "https://localhost:8080/",
          "height": 657
        },
        "id": "gtQUIvQUCC0h",
        "outputId": "e6a2d158-7372-4c41-a487-b2e5d3a3a464"
      },
      "execution_count": null,
      "outputs": [
        {
          "output_type": "stream",
          "name": "stdout",
          "text": [
            "Results for the LogisticRegression------\n",
            "Recall Score - 0.9000628535512256\n",
            "              precision    recall  f1-score   support\n",
            "\n",
            "           0       0.62      0.28      0.39      1818\n",
            "           1       0.69      0.90      0.78      3182\n",
            "\n",
            "    accuracy                           0.68      5000\n",
            "   macro avg       0.65      0.59      0.58      5000\n",
            "weighted avg       0.66      0.68      0.64      5000\n",
            "\n"
          ]
        },
        {
          "output_type": "execute_result",
          "data": {
            "text/plain": [
              "<sklearn.metrics._plot.confusion_matrix.ConfusionMatrixDisplay at 0x7d50f72c8eb0>"
            ]
          },
          "metadata": {},
          "execution_count": 87
        },
        {
          "output_type": "display_data",
          "data": {
            "text/plain": [
              "<Figure size 640x480 with 2 Axes>"
            ],
            "image/png": "[encoded data removed]"
          },
          "metadata": {}
        }
      ]
    },
    {
      "cell_type": "code",
      "source": [
        "print('Accuracy:%.3f'%metrics.accuracy_score(y_test, y_pred_lr))\n",
        "print('Recall:%.3f'%metrics.recall_score(y_test, y_pred_lr))\n",
        "print('Precision:%.3f'%metrics.precision_score(y_test, y_pred_lr))\n",
        "print('F1 Score:%.3f'%metrics.f1_score(y_test, y_pred_lr))\n",
        "print('AUC:%.3f'%metrics.roc_auc_score(y_test, y_pred_lr))\n",
        "print('LR Confusion Matrix:\\n', confusion_matrix(y_test, y_pred_lr))\n",
        "print('Classification Report:\\n', classification_report(y_test, y_pred_lr))"
      ],
      "metadata": {
        "colab": {
          "base_uri": "https://localhost:8080/"
        },
        "id": "PtBssSvVCRwz",
        "outputId": "fa740be4-b6cf-462e-e65b-e78af0759e59"
      },
      "execution_count": null,
      "outputs": [
        {
          "output_type": "stream",
          "name": "stdout",
          "text": [
            "Accuracy:0.676\n",
            "Recall:0.900\n",
            "Precision:0.687\n",
            "F1 Score:0.779\n",
            "AUC:0.591\n",
            "LR Confusion Matrix:\n",
            " [[ 514 1304]\n",
            " [ 318 2864]]\n",
            "Classification Report:\n",
            "               precision    recall  f1-score   support\n",
            "\n",
            "           0       0.62      0.28      0.39      1818\n",
            "           1       0.69      0.90      0.78      3182\n",
            "\n",
            "    accuracy                           0.68      5000\n",
            "   macro avg       0.65      0.59      0.58      5000\n",
            "weighted avg       0.66      0.68      0.64      5000\n",
            "\n"
          ]
        }
      ]
    },
    {
      "cell_type": "markdown",
      "source": [
        "**DecisionTreeClassifier**"
      ],
      "metadata": {
        "id": "XmB1-Q1257ji"
      }
    },
    {
      "cell_type": "code",
      "source": [
        "#DecisionTree\n",
        "from sklearn import tree\n",
        "from sklearn.tree import DecisionTreeClassifier\n",
        "\n",
        "# Create Decision Tree classifer object\n",
        "clf = DecisionTreeClassifier()\n",
        "\n",
        "# Train Decision Tree Classifer\n",
        "clf = clf.fit(X_train_scaled,y_train)\n",
        "\n",
        "#Predict the response for test dataset\n",
        "y_pred_dt = clf.predict(X_test_scaled)\n"
      ],
      "metadata": {
        "id": "ihoR337KXLep"
      },
      "execution_count": null,
      "outputs": []
    },
    {
      "cell_type": "code",
      "source": [
        "# Evaluate the model\n",
        "print(\"Results for the DecisionTreeClassifier------\")\n",
        "accuracy = classification_report(y_test, y_pred_dt)\n",
        "rs_test = recall_score(y_test, y_pred_dt)\n",
        "print(\"Recall Score - \" + str(rs_test))\n",
        "print(accuracy)\n",
        "\n",
        "accuracy = classification_report(y_test, y_pred_dt,output_dict=True)\n",
        "df_report = pd.DataFrame(accuracy).transpose()\n",
        "df_report['Model'] = \"DecisionTreeClassifier\"\n",
        "df_report['ModelAcc'] = rs_test\n",
        "df_report.reset_index(inplace=True)\n",
        "dfresults = pd.concat([dfresults,df_report])\n",
        "\n",
        "cm = confusion_matrix(y_test, y_pred_dt, labels=logreg.classes_)\n",
        "disp = ConfusionMatrixDisplay(cm,display_labels=logreg.classes_)\n",
        "disp.plot()\n"
      ],
      "metadata": {
        "colab": {
          "base_uri": "https://localhost:8080/",
          "height": 657
        },
        "id": "x6blHbZn5-0p",
        "outputId": "295d990a-498c-43eb-cf7a-7837b3526789"
      },
      "execution_count": null,
      "outputs": [
        {
          "output_type": "stream",
          "name": "stdout",
          "text": [
            "Results for the DecisionTreeClassifier------\n",
            "Recall Score - 0.8661219358893778\n",
            "              precision    recall  f1-score   support\n",
            "\n",
            "           0       0.60      0.34      0.44      1818\n",
            "           1       0.70      0.87      0.77      3182\n",
            "\n",
            "    accuracy                           0.68      5000\n",
            "   macro avg       0.65      0.61      0.60      5000\n",
            "weighted avg       0.66      0.68      0.65      5000\n",
            "\n"
          ]
        },
        {
          "output_type": "execute_result",
          "data": {
            "text/plain": [
              "<sklearn.metrics._plot.confusion_matrix.ConfusionMatrixDisplay at 0x7d50f6c18a30>"
            ]
          },
          "metadata": {},
          "execution_count": 90
        },
        {
          "output_type": "display_data",
          "data": {
            "text/plain": [
              "<Figure size 640x480 with 2 Axes>"
            ],
            "image/png": "[encoded data removed]"
          },
          "metadata": {}
        }
      ]
    },
    {
      "cell_type": "code",
      "source": [
        "print('Accuracy:%.3f'%metrics.accuracy_score(y_test, y_pred_dt))\n",
        "print('Recall:%.3f'%metrics.recall_score(y_test, y_pred_dt))\n",
        "print('Precision:%.3f'%metrics.precision_score(y_test, y_pred_dt))\n",
        "print('F1 Score:%.3f'%metrics.f1_score(y_test, y_pred_dt))\n",
        "print('AUC:%.3f'%metrics.roc_auc_score(y_test, y_pred_dt))\n",
        "print('DT Confusion Matrix:\\n', confusion_matrix(y_test, y_pred_dt))\n",
        "print('Classification Report:\\n', classification_report(y_test, y_pred_dt))"
      ],
      "metadata": {
        "colab": {
          "base_uri": "https://localhost:8080/"
        },
        "id": "yE096A_KXPPj",
        "outputId": "f07d976e-10db-49b8-b957-1db838e0c98e"
      },
      "execution_count": null,
      "outputs": [
        {
          "output_type": "stream",
          "name": "stdout",
          "text": [
            "Accuracy:0.676\n",
            "Recall:0.866\n",
            "Precision:0.698\n",
            "F1 Score:0.773\n",
            "AUC:0.605\n",
            "DT Confusion Matrix:\n",
            " [[ 626 1192]\n",
            " [ 426 2756]]\n",
            "Classification Report:\n",
            "               precision    recall  f1-score   support\n",
            "\n",
            "           0       0.60      0.34      0.44      1818\n",
            "           1       0.70      0.87      0.77      3182\n",
            "\n",
            "    accuracy                           0.68      5000\n",
            "   macro avg       0.65      0.61      0.60      5000\n",
            "weighted avg       0.66      0.68      0.65      5000\n",
            "\n"
          ]
        }
      ]
    },
    {
      "cell_type": "markdown",
      "source": [
        "**KNeighborsClassifier**"
      ],
      "metadata": {
        "id": "qRKD28Uq6PA_"
      }
    },
    {
      "cell_type": "code",
      "source": [
        "from sklearn.neighbors import KNeighborsClassifier\n",
        "# Create KNN classifier\n",
        "knn = KNeighborsClassifier()\n",
        "# Fit the classifier to the data\n",
        "knn.fit(X_train_scaled,y_train)\n",
        "y_pred_knn = knn.predict(X_test_scaled)"
      ],
      "metadata": {
        "id": "irzAfJ7QbsZr"
      },
      "execution_count": null,
      "outputs": []
    },
    {
      "cell_type": "code",
      "source": [
        "# Evaluate the model\n",
        "print(\"Results for the KNeighborsClassifier------\")\n",
        "accuracy = classification_report(y_test, y_pred_knn)\n",
        "rs_test = recall_score(y_test, y_pred_knn)\n",
        "print(\"Recall Score - \" + str(rs_test))\n",
        "print(accuracy)\n",
        "\n",
        "accuracy = classification_report(y_test, y_pred_knn,output_dict=True)\n",
        "df_report = pd.DataFrame(accuracy).transpose()\n",
        "df_report['Model'] = \"KNeighborsClassifier\"\n",
        "df_report['ModelAcc'] = rs_test\n",
        "df_report.reset_index(inplace=True)\n",
        "dfresults = pd.concat([dfresults,df_report])\n",
        "\n",
        "cm = confusion_matrix(y_test, y_pred_knn, labels=logreg.classes_)\n",
        "disp = ConfusionMatrixDisplay(cm,display_labels=logreg.classes_)\n",
        "disp.plot()\n"
      ],
      "metadata": {
        "colab": {
          "base_uri": "https://localhost:8080/",
          "height": 657
        },
        "id": "kmgtHudl6TNV",
        "outputId": "5f8f0148-0abc-4838-8918-2278d67506f4"
      },
      "execution_count": null,
      "outputs": [
        {
          "output_type": "stream",
          "name": "stdout",
          "text": [
            "Results for the KNeighborsClassifier------\n",
            "Recall Score - 0.8114393463230672\n",
            "              precision    recall  f1-score   support\n",
            "\n",
            "           0       0.54      0.38      0.45      1818\n",
            "           1       0.70      0.81      0.75      3182\n",
            "\n",
            "    accuracy                           0.66      5000\n",
            "   macro avg       0.62      0.60      0.60      5000\n",
            "weighted avg       0.64      0.66      0.64      5000\n",
            "\n"
          ]
        },
        {
          "output_type": "execute_result",
          "data": {
            "text/plain": [
              "<sklearn.metrics._plot.confusion_matrix.ConfusionMatrixDisplay at 0x7d50f6c4dd20>"
            ]
          },
          "metadata": {},
          "execution_count": 93
        },
        {
          "output_type": "display_data",
          "data": {
            "text/plain": [
              "<Figure size 640x480 with 2 Axes>"
            ],
            "image/png": "[encoded data removed]"
          },
          "metadata": {}
        }
      ]
    },
    {
      "cell_type": "code",
      "source": [
        "print('Accuracy:%.3f'%metrics.accuracy_score(y_test, y_pred_knn))\n",
        "print('Recall:%.3f'%metrics.recall_score(y_test, y_pred_knn))\n",
        "print('Precision:%.3f'%metrics.precision_score(y_test, y_pred_knn))\n",
        "print('F1 Score:%.3f'%metrics.f1_score(y_test, y_pred_knn))\n",
        "print('AUC:%.3f'%metrics.roc_auc_score(y_test, y_pred_knn))\n",
        "print('KNN Confusion Matrix:\\n', confusion_matrix(y_test, y_pred_knn))\n",
        "print('Classification Report:\\n', classification_report(y_test, y_pred_knn))"
      ],
      "metadata": {
        "colab": {
          "base_uri": "https://localhost:8080/"
        },
        "id": "LVjwB3o1FvKA",
        "outputId": "e10bb915-4ed5-4e19-e508-eb4fa5e60b45"
      },
      "execution_count": null,
      "outputs": [
        {
          "output_type": "stream",
          "name": "stdout",
          "text": [
            "Accuracy:0.655\n",
            "Recall:0.811\n",
            "Precision:0.697\n",
            "F1 Score:0.750\n",
            "AUC:0.597\n",
            "KNN Confusion Matrix:\n",
            " [[ 694 1124]\n",
            " [ 600 2582]]\n",
            "Classification Report:\n",
            "               precision    recall  f1-score   support\n",
            "\n",
            "           0       0.54      0.38      0.45      1818\n",
            "           1       0.70      0.81      0.75      3182\n",
            "\n",
            "    accuracy                           0.66      5000\n",
            "   macro avg       0.62      0.60      0.60      5000\n",
            "weighted avg       0.64      0.66      0.64      5000\n",
            "\n"
          ]
        }
      ]
    },
    {
      "cell_type": "markdown",
      "source": [
        "**SVC(RBF)**"
      ],
      "metadata": {
        "id": "ZcZoIbd66dAK"
      }
    },
    {
      "cell_type": "code",
      "source": [
        "#SVM RBF classifier\n",
        "from sklearn.svm import SVC\n",
        "svclassifier = SVC(kernel='rbf')\n",
        "svclassifier.fit(X_train_scaled, y_train)\n",
        "y_pred_svm = svclassifier.predict(X_test_scaled)\n"
      ],
      "metadata": {
        "id": "5Nn9uoJVXP1J"
      },
      "execution_count": null,
      "outputs": []
    },
    {
      "cell_type": "code",
      "source": [
        "# Evaluate the model\n",
        "print(\"Results for the SVC------\")\n",
        "accuracy = classification_report(y_test, y_pred_svm)\n",
        "rs_test = recall_score(y_test, y_pred_svm)\n",
        "print(\"Recall Score - \" + str(rs_test))\n",
        "print(accuracy)\n",
        "\n",
        "accuracy = classification_report(y_test, y_pred_svm,output_dict=True)\n",
        "df_report = pd.DataFrame(accuracy).transpose()\n",
        "df_report['Model'] = \"SVC\"\n",
        "df_report['ModelAcc'] = rs_test\n",
        "df_report.reset_index(inplace=True)\n",
        "dfresults = pd.concat([dfresults,df_report])\n",
        "\n",
        "cm = confusion_matrix(y_test, y_pred_svm, labels=logreg.classes_)\n",
        "disp = ConfusionMatrixDisplay(cm,display_labels=logreg.classes_)\n",
        "disp.plot()\n"
      ],
      "metadata": {
        "colab": {
          "base_uri": "https://localhost:8080/",
          "height": 657
        },
        "id": "276aQA8k6iw0",
        "outputId": "f72dbdf6-f534-4417-ff44-5a5edfcbb40b"
      },
      "execution_count": null,
      "outputs": [
        {
          "output_type": "stream",
          "name": "stdout",
          "text": [
            "Results for the SVC------\n",
            "Recall Score - 0.9022627278441232\n",
            "              precision    recall  f1-score   support\n",
            "\n",
            "           0       0.60      0.25      0.36      1818\n",
            "           1       0.68      0.90      0.78      3182\n",
            "\n",
            "    accuracy                           0.67      5000\n",
            "   macro avg       0.64      0.58      0.57      5000\n",
            "weighted avg       0.65      0.67      0.62      5000\n",
            "\n"
          ]
        },
        {
          "output_type": "execute_result",
          "data": {
            "text/plain": [
              "<sklearn.metrics._plot.confusion_matrix.ConfusionMatrixDisplay at 0x7d50f3766020>"
            ]
          },
          "metadata": {},
          "execution_count": 96
        },
        {
          "output_type": "display_data",
          "data": {
            "text/plain": [
              "<Figure size 640x480 with 2 Axes>"
            ],
            "image/png": "[encoded data removed]"
          },
          "metadata": {}
        }
      ]
    },
    {
      "cell_type": "code",
      "source": [
        "print('Accuracy:%.3f'%metrics.accuracy_score(y_test, y_pred_svm))\n",
        "print('Recall:%.3f'%metrics.recall_score(y_test, y_pred_svm))\n",
        "print('Precision:%.3f'%metrics.precision_score(y_test, y_pred_svm))\n",
        "print('F1 Score:%.3f'%metrics.f1_score(y_test, y_pred_svm))\n",
        "print('AUC:%.3f'%metrics.roc_auc_score(y_test, y_pred_svm))\n",
        "print('SVM Confusion Matrix:\\n', confusion_matrix(y_test, y_pred_svm))\n",
        "print('Classification Report:\\n', classification_report(y_test, y_pred_svm))"
      ],
      "metadata": {
        "colab": {
          "base_uri": "https://localhost:8080/"
        },
        "id": "mu4OIWKsT-Mp",
        "outputId": "b5ca2c0c-fb86-4c20-b51f-9ff57f4ec5c9"
      },
      "execution_count": null,
      "outputs": [
        {
          "output_type": "stream",
          "name": "stdout",
          "text": [
            "Accuracy:0.667\n",
            "Recall:0.902\n",
            "Precision:0.679\n",
            "F1 Score:0.775\n",
            "AUC:0.578\n",
            "SVM Confusion Matrix:\n",
            " [[ 462 1356]\n",
            " [ 311 2871]]\n",
            "Classification Report:\n",
            "               precision    recall  f1-score   support\n",
            "\n",
            "           0       0.60      0.25      0.36      1818\n",
            "           1       0.68      0.90      0.78      3182\n",
            "\n",
            "    accuracy                           0.67      5000\n",
            "   macro avg       0.64      0.58      0.57      5000\n",
            "weighted avg       0.65      0.67      0.62      5000\n",
            "\n"
          ]
        }
      ]
    },
    {
      "cell_type": "markdown",
      "source": [
        "**BernoulliNB**"
      ],
      "metadata": {
        "id": "Dze9RrtR69Ny"
      }
    },
    {
      "cell_type": "code",
      "source": [
        "from sklearn.naive_bayes import BernoulliNB\n",
        "bnb = BernoulliNB()\n",
        "bnb.fit(X_train_scaled, y_train)\n",
        "y_pred_bnb = bnb.predict(X_test_scaled)"
      ],
      "metadata": {
        "id": "Lxq1Yw4WFFCx"
      },
      "execution_count": null,
      "outputs": []
    },
    {
      "cell_type": "code",
      "source": [
        "# Evaluate the model\n",
        "print(\"Results for the BernoulliNB------\")\n",
        "accuracy = classification_report(y_test, y_pred_bnb)\n",
        "rs_test = recall_score(y_test, y_pred_bnb)\n",
        "print(\"Recall Score - \" + str(rs_test))\n",
        "print(accuracy)\n",
        "\n",
        "accuracy = classification_report(y_test, y_pred_bnb,output_dict=True)\n",
        "df_report = pd.DataFrame(accuracy).transpose()\n",
        "df_report['Model'] = \"BernoulliNB\"\n",
        "df_report['ModelAcc'] = rs_test\n",
        "df_report.reset_index(inplace=True)\n",
        "dfresults = pd.concat([dfresults,df_report])\n",
        "\n",
        "cm = confusion_matrix(y_test, y_pred_bnb, labels=logreg.classes_)\n",
        "disp = ConfusionMatrixDisplay(cm,display_labels=logreg.classes_)\n",
        "disp.plot()\n"
      ],
      "metadata": {
        "colab": {
          "base_uri": "https://localhost:8080/",
          "height": 657
        },
        "id": "XAEXGdEe7JMR",
        "outputId": "2f963193-1b21-4eb6-9be5-d36803332ef7"
      },
      "execution_count": null,
      "outputs": [
        {
          "output_type": "stream",
          "name": "stdout",
          "text": [
            "Results for the BernoulliNB------\n",
            "Recall Score - 0.9028912633563796\n",
            "              precision    recall  f1-score   support\n",
            "\n",
            "           0       0.62      0.28      0.39      1818\n",
            "           1       0.69      0.90      0.78      3182\n",
            "\n",
            "    accuracy                           0.68      5000\n",
            "   macro avg       0.65      0.59      0.58      5000\n",
            "weighted avg       0.66      0.68      0.64      5000\n",
            "\n"
          ]
        },
        {
          "output_type": "execute_result",
          "data": {
            "text/plain": [
              "<sklearn.metrics._plot.confusion_matrix.ConfusionMatrixDisplay at 0x7d50f3683490>"
            ]
          },
          "metadata": {},
          "execution_count": 99
        },
        {
          "output_type": "display_data",
          "data": {
            "text/plain": [
              "<Figure size 640x480 with 2 Axes>"
            ],
            "image/png": "[encoded data removed]"
          },
          "metadata": {}
        }
      ]
    },
    {
      "cell_type": "code",
      "source": [
        "print('Accuracy:%.3f'%metrics.accuracy_score(y_test, y_pred_bnb))\n",
        "print('Recall:%.4f'%metrics.recall_score(y_test, y_pred_bnb))\n",
        "print('Precision:%.3f'%metrics.precision_score(y_test, y_pred_bnb))\n",
        "print('F1 Score:%.3f'%metrics.f1_score(y_test, y_pred_bnb))\n",
        "print('AUC:%.3f'%metrics.roc_auc_score(y_test, y_pred_bnb))\n",
        "print('NB Confusion Matrix:\\n', confusion_matrix(y_test, y_pred_bnb))\n",
        "print('Classification Report:\\n', classification_report(y_test, y_pred_bnb))"
      ],
      "metadata": {
        "colab": {
          "base_uri": "https://localhost:8080/"
        },
        "id": "YIiau5GT7IYR",
        "outputId": "3b9a15cd-9a83-4e05-ca13-ef738d0357de"
      },
      "execution_count": null,
      "outputs": [
        {
          "output_type": "stream",
          "name": "stdout",
          "text": [
            "Accuracy:0.676\n",
            "Recall:0.9029\n",
            "Precision:0.687\n",
            "F1 Score:0.780\n",
            "AUC:0.591\n",
            "NB Confusion Matrix:\n",
            " [[ 509 1309]\n",
            " [ 309 2873]]\n",
            "Classification Report:\n",
            "               precision    recall  f1-score   support\n",
            "\n",
            "           0       0.62      0.28      0.39      1818\n",
            "           1       0.69      0.90      0.78      3182\n",
            "\n",
            "    accuracy                           0.68      5000\n",
            "   macro avg       0.65      0.59      0.58      5000\n",
            "weighted avg       0.66      0.68      0.64      5000\n",
            "\n"
          ]
        }
      ]
    },
    {
      "cell_type": "markdown",
      "source": [
        "**Model Evaluation & Selection**"
      ],
      "metadata": {
        "id": "ifkuMEo-7aRP"
      }
    },
    {
      "cell_type": "code",
      "source": [
        "dfresults"
      ],
      "metadata": {
        "colab": {
          "base_uri": "https://localhost:8080/",
          "height": 833
        },
        "id": "v0uVw4Jc7ee7",
        "outputId": "56d5c46a-0895-4b16-c6d5-acb5b1365823"
      },
      "execution_count": null,
      "outputs": [
        {
          "output_type": "execute_result",
          "data": {
            "text/plain": [
              "          index  precision    recall  f1-score    support  \\\n",
              "0             0   0.617788  0.282728  0.387925  1818.0000   \n",
              "1             1   0.687140  0.900063  0.779320  3182.0000   \n",
              "2      accuracy   0.675600  0.675600  0.675600     0.6756   \n",
              "3     macro avg   0.652464  0.591396  0.583622  5000.0000   \n",
              "4  weighted avg   0.661924  0.675600  0.637008  5000.0000   \n",
              "0             0   0.595057  0.344334  0.436237  1818.0000   \n",
              "1             1   0.698075  0.866122  0.773072  3182.0000   \n",
              "2      accuracy   0.676400  0.676400  0.676400     0.6764   \n",
              "3     macro avg   0.646566  0.605228  0.604654  5000.0000   \n",
              "4  weighted avg   0.660618  0.676400  0.650598  5000.0000   \n",
              "0             0   0.536321  0.381738  0.446015  1818.0000   \n",
              "1             1   0.696708  0.811439  0.749710  3182.0000   \n",
              "2      accuracy   0.655200  0.655200  0.655200     0.6552   \n",
              "3     macro avg   0.616515  0.596589  0.597863  5000.0000   \n",
              "4  weighted avg   0.638391  0.655200  0.639286  5000.0000   \n",
              "0             0   0.597671  0.254125  0.356619  1818.0000   \n",
              "1             1   0.679205  0.902263  0.775003  3182.0000   \n",
              "2      accuracy   0.666600  0.666600  0.666600     0.6666   \n",
              "3     macro avg   0.638438  0.578194  0.565811  5000.0000   \n",
              "4  weighted avg   0.649559  0.666600  0.622879  5000.0000   \n",
              "0             0   0.622249  0.279978  0.386191  1818.0000   \n",
              "1             1   0.686992  0.902891  0.780282  3182.0000   \n",
              "2      accuracy   0.676400  0.676400  0.676400     0.6764   \n",
              "3     macro avg   0.654621  0.591435  0.583237  5000.0000   \n",
              "4  weighted avg   0.663452  0.676400  0.636991  5000.0000   \n",
              "\n",
              "                    Model  ModelAcc  \n",
              "0      LogisticRegression  0.900063  \n",
              "1      LogisticRegression  0.900063  \n",
              "2      LogisticRegression  0.900063  \n",
              "3      LogisticRegression  0.900063  \n",
              "4      LogisticRegression  0.900063  \n",
              "0  DecisionTreeClassifier  0.866122  \n",
              "1  DecisionTreeClassifier  0.866122  \n",
              "2  DecisionTreeClassifier  0.866122  \n",
              "3  DecisionTreeClassifier  0.866122  \n",
              "4  DecisionTreeClassifier  0.866122  \n",
              "0    KNeighborsClassifier  0.811439  \n",
              "1    KNeighborsClassifier  0.811439  \n",
              "2    KNeighborsClassifier  0.811439  \n",
              "3    KNeighborsClassifier  0.811439  \n",
              "4    KNeighborsClassifier  0.811439  \n",
              "0                     SVC  0.902263  \n",
              "1                     SVC  0.902263  \n",
              "2                     SVC  0.902263  \n",
              "3                     SVC  0.902263  \n",
              "4                     SVC  0.902263  \n",
              "0             BernoulliNB  0.902891  \n",
              "1             BernoulliNB  0.902891  \n",
              "2             BernoulliNB  0.902891  \n",
              "3             BernoulliNB  0.902891  \n",
              "4             BernoulliNB  0.902891  "
            ],
            "text/html": [
              "\n",
              "  <div id=\"df-b3ead797-8243-4fde-909f-83903aadd9df\" class=\"colab-df-container\">\n",
              "    <div>\n",
              "<style scoped>\n",
              "    .dataframe tbody tr th:only-of-type {\n",
              "        vertical-align: middle;\n",
              "    }\n",
              "\n",
              "    .dataframe tbody tr th {\n",
              "        vertical-align: top;\n",
              "    }\n",
              "\n",
              "    .dataframe thead th {\n",
              "        text-align: right;\n",
              "    }\n",
              "</style>\n",
              "<table border=\"1\" class=\"dataframe\">\n",
              "  <thead>\n",
              "    <tr style=\"text-align: right;\">\n",
              "      <th></th>\n",
              "      <th>index</th>\n",
              "      <th>precision</th>\n",
              "      <th>recall</th>\n",
              "      <th>f1-score</th>\n",
              "      <th>support</th>\n",
              "      <th>Model</th>\n",
              "      <th>ModelAcc</th>\n",
              "    </tr>\n",
              "  </thead>\n",
              "  <tbody>\n",
              "    <tr>\n",
              "      <th>0</th>\n",
              "      <td>0</td>\n",
              "      <td>0.617788</td>\n",
              "      <td>0.282728</td>\n",
              "      <td>0.387925</td>\n",
              "      <td>1818.0000</td>\n",
              "      <td>LogisticRegression</td>\n",
              "      <td>0.900063</td>\n",
              "    </tr>\n",
              "    <tr>\n",
              "      <th>1</th>\n",
              "      <td>1</td>\n",
              "      <td>0.687140</td>\n",
              "      <td>0.900063</td>\n",
              "      <td>0.779320</td>\n",
              "      <td>3182.0000</td>\n",
              "      <td>LogisticRegression</td>\n",
              "      <td>0.900063</td>\n",
              "    </tr>\n",
              "    <tr>\n",
              "      <th>2</th>\n",
              "      <td>accuracy</td>\n",
              "      <td>0.675600</td>\n",
              "      <td>0.675600</td>\n",
              "      <td>0.675600</td>\n",
              "      <td>0.6756</td>\n",
              "      <td>LogisticRegression</td>\n",
              "      <td>0.900063</td>\n",
              "    </tr>\n",
              "    <tr>\n",
              "      <th>3</th>\n",
              "      <td>macro avg</td>\n",
              "      <td>0.652464</td>\n",
              "      <td>0.591396</td>\n",
              "      <td>0.583622</td>\n",
              "      <td>5000.0000</td>\n",
              "      <td>LogisticRegression</td>\n",
              "      <td>0.900063</td>\n",
              "    </tr>\n",
              "    <tr>\n",
              "      <th>4</th>\n",
              "      <td>weighted avg</td>\n",
              "      <td>0.661924</td>\n",
              "      <td>0.675600</td>\n",
              "      <td>0.637008</td>\n",
              "      <td>5000.0000</td>\n",
              "      <td>LogisticRegression</td>\n",
              "      <td>0.900063</td>\n",
              "    </tr>\n",
              "    <tr>\n",
              "      <th>0</th>\n",
              "      <td>0</td>\n",
              "      <td>0.595057</td>\n",
              "      <td>0.344334</td>\n",
              "      <td>0.436237</td>\n",
              "      <td>1818.0000</td>\n",
              "      <td>DecisionTreeClassifier</td>\n",
              "      <td>0.866122</td>\n",
              "    </tr>\n",
              "    <tr>\n",
              "      <th>1</th>\n",
              "      <td>1</td>\n",
              "      <td>0.698075</td>\n",
              "      <td>0.866122</td>\n",
              "      <td>0.773072</td>\n",
              "      <td>3182.0000</td>\n",
              "      <td>DecisionTreeClassifier</td>\n",
              "      <td>0.866122</td>\n",
              "    </tr>\n",
              "    <tr>\n",
              "      <th>2</th>\n",
              "      <td>accuracy</td>\n",
              "      <td>0.676400</td>\n",
              "      <td>0.676400</td>\n",
              "      <td>0.676400</td>\n",
              "      <td>0.6764</td>\n",
              "      <td>DecisionTreeClassifier</td>\n",
              "      <td>0.866122</td>\n",
              "    </tr>\n",
              "    <tr>\n",
              "      <th>3</th>\n",
              "      <td>macro avg</td>\n",
              "      <td>0.646566</td>\n",
              "      <td>0.605228</td>\n",
              "      <td>0.604654</td>\n",
              "      <td>5000.0000</td>\n",
              "      <td>DecisionTreeClassifier</td>\n",
              "      <td>0.866122</td>\n",
              "    </tr>\n",
              "    <tr>\n",
              "      <th>4</th>\n",
              "      <td>weighted avg</td>\n",
              "      <td>0.660618</td>\n",
              "      <td>0.676400</td>\n",
              "      <td>0.650598</td>\n",
              "      <td>5000.0000</td>\n",
              "      <td>DecisionTreeClassifier</td>\n",
              "      <td>0.866122</td>\n",
              "    </tr>\n",
              "    <tr>\n",
              "      <th>0</th>\n",
              "      <td>0</td>\n",
              "      <td>0.536321</td>\n",
              "      <td>0.381738</td>\n",
              "      <td>0.446015</td>\n",
              "      <td>1818.0000</td>\n",
              "      <td>KNeighborsClassifier</td>\n",
              "      <td>0.811439</td>\n",
              "    </tr>\n",
              "    <tr>\n",
              "      <th>1</th>\n",
              "      <td>1</td>\n",
              "      <td>0.696708</td>\n",
              "      <td>0.811439</td>\n",
              "      <td>0.749710</td>\n",
              "      <td>3182.0000</td>\n",
              "      <td>KNeighborsClassifier</td>\n",
              "      <td>0.811439</td>\n",
              "    </tr>\n",
              "    <tr>\n",
              "      <th>2</th>\n",
              "      <td>accuracy</td>\n",
              "      <td>0.655200</td>\n",
              "      <td>0.655200</td>\n",
              "      <td>0.655200</td>\n",
              "      <td>0.6552</td>\n",
              "      <td>KNeighborsClassifier</td>\n",
              "      <td>0.811439</td>\n",
              "    </tr>\n",
              "    <tr>\n",
              "      <th>3</th>\n",
              "      <td>macro avg</td>\n",
              "      <td>0.616515</td>\n",
              "      <td>0.596589</td>\n",
              "      <td>0.597863</td>\n",
              "      <td>5000.0000</td>\n",
              "      <td>KNeighborsClassifier</td>\n",
              "      <td>0.811439</td>\n",
              "    </tr>\n",
              "    <tr>\n",
              "      <th>4</th>\n",
              "      <td>weighted avg</td>\n",
              "      <td>0.638391</td>\n",
              "      <td>0.655200</td>\n",
              "      <td>0.639286</td>\n",
              "      <td>5000.0000</td>\n",
              "      <td>KNeighborsClassifier</td>\n",
              "      <td>0.811439</td>\n",
              "    </tr>\n",
              "    <tr>\n",
              "      <th>0</th>\n",
              "      <td>0</td>\n",
              "      <td>0.597671</td>\n",
              "      <td>0.254125</td>\n",
              "      <td>0.356619</td>\n",
              "      <td>1818.0000</td>\n",
              "      <td>SVC</td>\n",
              "      <td>0.902263</td>\n",
              "    </tr>\n",
              "    <tr>\n",
              "      <th>1</th>\n",
              "      <td>1</td>\n",
              "      <td>0.679205</td>\n",
              "      <td>0.902263</td>\n",
              "      <td>0.775003</td>\n",
              "      <td>3182.0000</td>\n",
              "      <td>SVC</td>\n",
              "      <td>0.902263</td>\n",
              "    </tr>\n",
              "    <tr>\n",
              "      <th>2</th>\n",
              "      <td>accuracy</td>\n",
              "      <td>0.666600</td>\n",
              "      <td>0.666600</td>\n",
              "      <td>0.666600</td>\n",
              "      <td>0.6666</td>\n",
              "      <td>SVC</td>\n",
              "      <td>0.902263</td>\n",
              "    </tr>\n",
              "    <tr>\n",
              "      <th>3</th>\n",
              "      <td>macro avg</td>\n",
              "      <td>0.638438</td>\n",
              "      <td>0.578194</td>\n",
              "      <td>0.565811</td>\n",
              "      <td>5000.0000</td>\n",
              "      <td>SVC</td>\n",
              "      <td>0.902263</td>\n",
              "    </tr>\n",
              "    <tr>\n",
              "      <th>4</th>\n",
              "      <td>weighted avg</td>\n",
              "      <td>0.649559</td>\n",
              "      <td>0.666600</td>\n",
              "      <td>0.622879</td>\n",
              "      <td>5000.0000</td>\n",
              "      <td>SVC</td>\n",
              "      <td>0.902263</td>\n",
              "    </tr>\n",
              "    <tr>\n",
              "      <th>0</th>\n",
              "      <td>0</td>\n",
              "      <td>0.622249</td>\n",
              "      <td>0.279978</td>\n",
              "      <td>0.386191</td>\n",
              "      <td>1818.0000</td>\n",
              "      <td>BernoulliNB</td>\n",
              "      <td>0.902891</td>\n",
              "    </tr>\n",
              "    <tr>\n",
              "      <th>1</th>\n",
              "      <td>1</td>\n",
              "      <td>0.686992</td>\n",
              "      <td>0.902891</td>\n",
              "      <td>0.780282</td>\n",
              "      <td>3182.0000</td>\n",
              "      <td>BernoulliNB</td>\n",
              "      <td>0.902891</td>\n",
              "    </tr>\n",
              "    <tr>\n",
              "      <th>2</th>\n",
              "      <td>accuracy</td>\n",
              "      <td>0.676400</td>\n",
              "      <td>0.676400</td>\n",
              "      <td>0.676400</td>\n",
              "      <td>0.6764</td>\n",
              "      <td>BernoulliNB</td>\n",
              "      <td>0.902891</td>\n",
              "    </tr>\n",
              "    <tr>\n",
              "      <th>3</th>\n",
              "      <td>macro avg</td>\n",
              "      <td>0.654621</td>\n",
              "      <td>0.591435</td>\n",
              "      <td>0.583237</td>\n",
              "      <td>5000.0000</td>\n",
              "      <td>BernoulliNB</td>\n",
              "      <td>0.902891</td>\n",
              "    </tr>\n",
              "    <tr>\n",
              "      <th>4</th>\n",
              "      <td>weighted avg</td>\n",
              "      <td>0.663452</td>\n",
              "      <td>0.676400</td>\n",
              "      <td>0.636991</td>\n",
              "      <td>5000.0000</td>\n",
              "      <td>BernoulliNB</td>\n",
              "      <td>0.902891</td>\n",
              "    </tr>\n",
              "  </tbody>\n",
              "</table>\n",
              "</div>\n",
              "    <div class=\"colab-df-buttons\">\n",
              "\n",
              "  <div class=\"colab-df-container\">\n",
              "    <button class=\"colab-df-convert\" onclick=\"convertToInteractive('df-b3ead797-8243-4fde-909f-83903aadd9df')\"\n",
              "            title=\"Convert this dataframe to an interactive table.\"\n",
              "            style=\"display:none;\">\n",
              "\n",
              "  <svg xmlns=\"http://www.w3.org/2000/svg\" height=\"24px\" viewBox=\"0 -960 960 960\">\n",
              "    <path d=\"M120-120v-720h720v720H120Zm60-500h600v-160H180v160Zm220 220h160v-160H400v160Zm0 220h160v-160H400v160ZM180-400h160v-160H180v160Zm440 0h160v-160H620v160ZM180-180h160v-160H180v160Zm440 0h160v-160H620v160Z\"/>\n",
              "  </svg>\n",
              "    </button>\n",
              "\n",
              "  <style>\n",
              "    .colab-df-container {\n",
              "      display:flex;\n",
              "      gap: 12px;\n",
              "    }\n",
              "\n",
              "    .colab-df-convert {\n",
              "      background-color: #E8F0FE;\n",
              "      border: none;\n",
              "      border-radius: 50%;\n",
              "      cursor: pointer;\n",
              "      display: none;\n",
              "      fill: #1967D2;\n",
              "      height: 32px;\n",
              "      padding: 0 0 0 0;\n",
              "      width: 32px;\n",
              "    }\n",
              "\n",
              "    .colab-df-convert:hover {\n",
              "      background-color: #E2EBFA;\n",
              "      box-shadow: 0px 1px 2px rgba(60, 64, 67, 0.3), 0px 1px 3px 1px rgba(60, 64, 67, 0.15);\n",
              "      fill: #174EA6;\n",
              "    }\n",
              "\n",
              "    .colab-df-buttons div {\n",
              "      margin-bottom: 4px;\n",
              "    }\n",
              "\n",
              "    [theme=dark] .colab-df-convert {\n",
              "      background-color: #3B4455;\n",
              "      fill: #D2E3FC;\n",
              "    }\n",
              "\n",
              "    [theme=dark] .colab-df-convert:hover {\n",
              "      background-color: #434B5C;\n",
              "      box-shadow: 0px 1px 3px 1px rgba(0, 0, 0, 0.15);\n",
              "      filter: drop-shadow(0px 1px 2px rgba(0, 0, 0, 0.3));\n",
              "      fill: #FFFFFF;\n",
              "    }\n",
              "  </style>\n",
              "\n",
              "    <script>\n",
              "      const buttonEl =\n",
              "        document.querySelector('#df-b3ead797-8243-4fde-909f-83903aadd9df button.colab-df-convert');\n",
              "      buttonEl.style.display =\n",
              "        google.colab.kernel.accessAllowed ? 'block' : 'none';\n",
              "\n",
              "      async function convertToInteractive(key) {\n",
              "        const element = document.querySelector('#df-b3ead797-8243-4fde-909f-83903aadd9df');\n",
              "        const dataTable =\n",
              "          await google.colab.kernel.invokeFunction('convertToInteractive',\n",
              "                                                    [key], {});\n",
              "        if (!dataTable) return;\n",
              "\n",
              "        const docLinkHtml = 'Like what you see? Visit the ' +\n",
              "          '<a target=\"_blank\" href=https://colab.research.google.com/notebooks/data_table.ipynb>data table notebook</a>'\n",
              "          + ' to learn more about interactive tables.';\n",
              "        element.innerHTML = '';\n",
              "        dataTable['output_type'] = 'display_data';\n",
              "        await google.colab.output.renderOutput(dataTable, element);\n",
              "        const docLink = document.createElement('div');\n",
              "        docLink.innerHTML = docLinkHtml;\n",
              "        element.appendChild(docLink);\n",
              "      }\n",
              "    </script>\n",
              "  </div>\n",
              "\n",
              "\n",
              "<div id=\"df-5de36565-d75f-4ed7-9e19-96e306410712\">\n",
              "  <button class=\"colab-df-quickchart\" onclick=\"quickchart('df-5de36565-d75f-4ed7-9e19-96e306410712')\"\n",
              "            title=\"Suggest charts\"\n",
              "            style=\"display:none;\">\n",
              "\n",
              "<svg xmlns=\"http://www.w3.org/2000/svg\" height=\"24px\"viewBox=\"0 0 24 24\"\n",
              "     width=\"24px\">\n",
              "    <g>\n",
              "        <path d=\"M19 3H5c-1.1 0-2 .9-2 2v14c0 1.1.9 2 2 2h14c1.1 0 2-.9 2-2V5c0-1.1-.9-2-2-2zM9 17H7v-7h2v7zm4 0h-2V7h2v10zm4 0h-2v-4h2v4z\"/>\n",
              "    </g>\n",
              "</svg>\n",
              "  </button>\n",
              "\n",
              "<style>\n",
              "  .colab-df-quickchart {\n",
              "      --bg-color: #E8F0FE;\n",
              "      --fill-color: #1967D2;\n",
              "      --hover-bg-color: #E2EBFA;\n",
              "      --hover-fill-color: #174EA6;\n",
              "      --disabled-fill-color: #AAA;\n",
              "      --disabled-bg-color: #DDD;\n",
              "  }\n",
              "\n",
              "  [theme=dark] .colab-df-quickchart {\n",
              "      --bg-color: #3B4455;\n",
              "      --fill-color: #D2E3FC;\n",
              "      --hover-bg-color: #434B5C;\n",
              "      --hover-fill-color: #FFFFFF;\n",
              "      --disabled-bg-color: #3B4455;\n",
              "      --disabled-fill-color: #666;\n",
              "  }\n",
              "\n",
              "  .colab-df-quickchart {\n",
              "    background-color: var(--bg-color);\n",
              "    border: none;\n",
              "    border-radius: 50%;\n",
              "    cursor: pointer;\n",
              "    display: none;\n",
              "    fill: var(--fill-color);\n",
              "    height: 32px;\n",
              "    padding: 0;\n",
              "    width: 32px;\n",
              "  }\n",
              "\n",
              "  .colab-df-quickchart:hover {\n",
              "    background-color: var(--hover-bg-color);\n",
              "    box-shadow: 0 1px 2px rgba(60, 64, 67, 0.3), 0 1px 3px 1px rgba(60, 64, 67, 0.15);\n",
              "    fill: var(--button-hover-fill-color);\n",
              "  }\n",
              "\n",
              "  .colab-df-quickchart-complete:disabled,\n",
              "  .colab-df-quickchart-complete:disabled:hover {\n",
              "    background-color: var(--disabled-bg-color);\n",
              "    fill: var(--disabled-fill-color);\n",
              "    box-shadow: none;\n",
              "  }\n",
              "\n",
              "  .colab-df-spinner {\n",
              "    border: 2px solid var(--fill-color);\n",
              "    border-color: transparent;\n",
              "    border-bottom-color: var(--fill-color);\n",
              "    animation:\n",
              "      spin 1s steps(1) infinite;\n",
              "  }\n",
              "\n",
              "  @keyframes spin {\n",
              "    0% {\n",
              "      border-color: transparent;\n",
              "      border-bottom-color: var(--fill-color);\n",
              "      border-left-color: var(--fill-color);\n",
              "    }\n",
              "    20% {\n",
              "      border-color: transparent;\n",
              "      border-left-color: var(--fill-color);\n",
              "      border-top-color: var(--fill-color);\n",
              "    }\n",
              "    30% {\n",
              "      border-color: transparent;\n",
              "      border-left-color: var(--fill-color);\n",
              "      border-top-color: var(--fill-color);\n",
              "      border-right-color: var(--fill-color);\n",
              "    }\n",
              "    40% {\n",
              "      border-color: transparent;\n",
              "      border-right-color: var(--fill-color);\n",
              "      border-top-color: var(--fill-color);\n",
              "    }\n",
              "    60% {\n",
              "      border-color: transparent;\n",
              "      border-right-color: var(--fill-color);\n",
              "    }\n",
              "    80% {\n",
              "      border-color: transparent;\n",
              "      border-right-color: var(--fill-color);\n",
              "      border-bottom-color: var(--fill-color);\n",
              "    }\n",
              "    90% {\n",
              "      border-color: transparent;\n",
              "      border-bottom-color: var(--fill-color);\n",
              "    }\n",
              "  }\n",
              "</style>\n",
              "\n",
              "  <script>\n",
              "    async function quickchart(key) {\n",
              "      const quickchartButtonEl =\n",
              "        document.querySelector('#' + key + ' button');\n",
              "      quickchartButtonEl.disabled = true;  // To prevent multiple clicks.\n",
              "      quickchartButtonEl.classList.add('colab-df-spinner');\n",
              "      try {\n",
              "        const charts = await google.colab.kernel.invokeFunction(\n",
              "            'suggestCharts', [key], {});\n",
              "      } catch (error) {\n",
              "        console.error('Error during call to suggestCharts:', error);\n",
              "      }\n",
              "      quickchartButtonEl.classList.remove('colab-df-spinner');\n",
              "      quickchartButtonEl.classList.add('colab-df-quickchart-complete');\n",
              "    }\n",
              "    (() => {\n",
              "      let quickchartButtonEl =\n",
              "        document.querySelector('#df-5de36565-d75f-4ed7-9e19-96e306410712 button');\n",
              "      quickchartButtonEl.style.display =\n",
              "        google.colab.kernel.accessAllowed ? 'block' : 'none';\n",
              "    })();\n",
              "  </script>\n",
              "</div>\n",
              "    </div>\n",
              "  </div>\n"
            ]
          },
          "metadata": {},
          "execution_count": 101
        }
      ]
    },
    {
      "cell_type": "markdown",
      "source": [
        "**Choose model with Highest Recall Score - and True/False Positive as our Priority - In Healthcare**\n",
        "False Positive is more important than False Negative as User have a upper hand to do lab test\n",
        "Model Accuracy is Recall score value"
      ],
      "metadata": {
        "id": "ECMvjQES8eB-"
      }
    },
    {
      "cell_type": "code",
      "source": [
        "dfresults[dfresults['index']=='accuracy'].sort_values(by=['ModelAcc'],ascending=False)"
      ],
      "metadata": {
        "colab": {
          "base_uri": "https://localhost:8080/",
          "height": 206
        },
        "id": "GEm8ZjZ48BZ_",
        "outputId": "b6d574be-4dd8-4773-c15f-a99d2d18a9f9"
      },
      "execution_count": null,
      "outputs": [
        {
          "output_type": "execute_result",
          "data": {
            "text/plain": [
              "      index  precision  recall  f1-score  support                   Model  \\\n",
              "2  accuracy     0.6764  0.6764    0.6764   0.6764             BernoulliNB   \n",
              "2  accuracy     0.6666  0.6666    0.6666   0.6666                     SVC   \n",
              "2  accuracy     0.6756  0.6756    0.6756   0.6756      LogisticRegression   \n",
              "2  accuracy     0.6764  0.6764    0.6764   0.6764  DecisionTreeClassifier   \n",
              "2  accuracy     0.6552  0.6552    0.6552   0.6552    KNeighborsClassifier   \n",
              "\n",
              "   ModelAcc  \n",
              "2  0.902891  \n",
              "2  0.902263  \n",
              "2  0.900063  \n",
              "2  0.866122  \n",
              "2  0.811439  "
            ],
            "text/html": [
              "\n",
              "  <div id=\"df-ed2e2014-6510-4a0a-a754-7d2b0369961f\" class=\"colab-df-container\">\n",
              "    <div>\n",
              "<style scoped>\n",
              "    .dataframe tbody tr th:only-of-type {\n",
              "        vertical-align: middle;\n",
              "    }\n",
              "\n",
              "    .dataframe tbody tr th {\n",
              "        vertical-align: top;\n",
              "    }\n",
              "\n",
              "    .dataframe thead th {\n",
              "        text-align: right;\n",
              "    }\n",
              "</style>\n",
              "<table border=\"1\" class=\"dataframe\">\n",
              "  <thead>\n",
              "    <tr style=\"text-align: right;\">\n",
              "      <th></th>\n",
              "      <th>index</th>\n",
              "      <th>precision</th>\n",
              "      <th>recall</th>\n",
              "      <th>f1-score</th>\n",
              "      <th>support</th>\n",
              "      <th>Model</th>\n",
              "      <th>ModelAcc</th>\n",
              "    </tr>\n",
              "  </thead>\n",
              "  <tbody>\n",
              "    <tr>\n",
              "      <th>2</th>\n",
              "      <td>accuracy</td>\n",
              "      <td>0.6764</td>\n",
              "      <td>0.6764</td>\n",
              "      <td>0.6764</td>\n",
              "      <td>0.6764</td>\n",
              "      <td>BernoulliNB</td>\n",
              "      <td>0.902891</td>\n",
              "    </tr>\n",
              "    <tr>\n",
              "      <th>2</th>\n",
              "      <td>accuracy</td>\n",
              "      <td>0.6666</td>\n",
              "      <td>0.6666</td>\n",
              "      <td>0.6666</td>\n",
              "      <td>0.6666</td>\n",
              "      <td>SVC</td>\n",
              "      <td>0.902263</td>\n",
              "    </tr>\n",
              "    <tr>\n",
              "      <th>2</th>\n",
              "      <td>accuracy</td>\n",
              "      <td>0.6756</td>\n",
              "      <td>0.6756</td>\n",
              "      <td>0.6756</td>\n",
              "      <td>0.6756</td>\n",
              "      <td>LogisticRegression</td>\n",
              "      <td>0.900063</td>\n",
              "    </tr>\n",
              "    <tr>\n",
              "      <th>2</th>\n",
              "      <td>accuracy</td>\n",
              "      <td>0.6764</td>\n",
              "      <td>0.6764</td>\n",
              "      <td>0.6764</td>\n",
              "      <td>0.6764</td>\n",
              "      <td>DecisionTreeClassifier</td>\n",
              "      <td>0.866122</td>\n",
              "    </tr>\n",
              "    <tr>\n",
              "      <th>2</th>\n",
              "      <td>accuracy</td>\n",
              "      <td>0.6552</td>\n",
              "      <td>0.6552</td>\n",
              "      <td>0.6552</td>\n",
              "      <td>0.6552</td>\n",
              "      <td>KNeighborsClassifier</td>\n",
              "      <td>0.811439</td>\n",
              "    </tr>\n",
              "  </tbody>\n",
              "</table>\n",
              "</div>\n",
              "    <div class=\"colab-df-buttons\">\n",
              "\n",
              "  <div class=\"colab-df-container\">\n",
              "    <button class=\"colab-df-convert\" onclick=\"convertToInteractive('df-ed2e2014-6510-4a0a-a754-7d2b0369961f')\"\n",
              "            title=\"Convert this dataframe to an interactive table.\"\n",
              "            style=\"display:none;\">\n",
              "\n",
              "  <svg xmlns=\"http://www.w3.org/2000/svg\" height=\"24px\" viewBox=\"0 -960 960 960\">\n",
              "    <path d=\"M120-120v-720h720v720H120Zm60-500h600v-160H180v160Zm220 220h160v-160H400v160Zm0 220h160v-160H400v160ZM180-400h160v-160H180v160Zm440 0h160v-160H620v160ZM180-180h160v-160H180v160Zm440 0h160v-160H620v160Z\"/>\n",
              "  </svg>\n",
              "    </button>\n",
              "\n",
              "  <style>\n",
              "    .colab-df-container {\n",
              "      display:flex;\n",
              "      gap: 12px;\n",
              "    }\n",
              "\n",
              "    .colab-df-convert {\n",
              "      background-color: #E8F0FE;\n",
              "      border: none;\n",
              "      border-radius: 50%;\n",
              "      cursor: pointer;\n",
              "      display: none;\n",
              "      fill: #1967D2;\n",
              "      height: 32px;\n",
              "      padding: 0 0 0 0;\n",
              "      width: 32px;\n",
              "    }\n",
              "\n",
              "    .colab-df-convert:hover {\n",
              "      background-color: #E2EBFA;\n",
              "      box-shadow: 0px 1px 2px rgba(60, 64, 67, 0.3), 0px 1px 3px 1px rgba(60, 64, 67, 0.15);\n",
              "      fill: #174EA6;\n",
              "    }\n",
              "\n",
              "    .colab-df-buttons div {\n",
              "      margin-bottom: 4px;\n",
              "    }\n",
              "\n",
              "    [theme=dark] .colab-df-convert {\n",
              "      background-color: #3B4455;\n",
              "      fill: #D2E3FC;\n",
              "    }\n",
              "\n",
              "    [theme=dark] .colab-df-convert:hover {\n",
              "      background-color: #434B5C;\n",
              "      box-shadow: 0px 1px 3px 1px rgba(0, 0, 0, 0.15);\n",
              "      filter: drop-shadow(0px 1px 2px rgba(0, 0, 0, 0.3));\n",
              "      fill: #FFFFFF;\n",
              "    }\n",
              "  </style>\n",
              "\n",
              "    <script>\n",
              "      const buttonEl =\n",
              "        document.querySelector('#df-ed2e2014-6510-4a0a-a754-7d2b0369961f button.colab-df-convert');\n",
              "      buttonEl.style.display =\n",
              "        google.colab.kernel.accessAllowed ? 'block' : 'none';\n",
              "\n",
              "      async function convertToInteractive(key) {\n",
              "        const element = document.querySelector('#df-ed2e2014-6510-4a0a-a754-7d2b0369961f');\n",
              "        const dataTable =\n",
              "          await google.colab.kernel.invokeFunction('convertToInteractive',\n",
              "                                                    [key], {});\n",
              "        if (!dataTable) return;\n",
              "\n",
              "        const docLinkHtml = 'Like what you see? Visit the ' +\n",
              "          '<a target=\"_blank\" href=https://colab.research.google.com/notebooks/data_table.ipynb>data table notebook</a>'\n",
              "          + ' to learn more about interactive tables.';\n",
              "        element.innerHTML = '';\n",
              "        dataTable['output_type'] = 'display_data';\n",
              "        await google.colab.output.renderOutput(dataTable, element);\n",
              "        const docLink = document.createElement('div');\n",
              "        docLink.innerHTML = docLinkHtml;\n",
              "        element.appendChild(docLink);\n",
              "      }\n",
              "    </script>\n",
              "  </div>\n",
              "\n",
              "\n",
              "<div id=\"df-1ace7269-beff-4f9a-b486-d65e1fb56ed0\">\n",
              "  <button class=\"colab-df-quickchart\" onclick=\"quickchart('df-1ace7269-beff-4f9a-b486-d65e1fb56ed0')\"\n",
              "            title=\"Suggest charts\"\n",
              "            style=\"display:none;\">\n",
              "\n",
              "<svg xmlns=\"http://www.w3.org/2000/svg\" height=\"24px\"viewBox=\"0 0 24 24\"\n",
              "     width=\"24px\">\n",
              "    <g>\n",
              "        <path d=\"M19 3H5c-1.1 0-2 .9-2 2v14c0 1.1.9 2 2 2h14c1.1 0 2-.9 2-2V5c0-1.1-.9-2-2-2zM9 17H7v-7h2v7zm4 0h-2V7h2v10zm4 0h-2v-4h2v4z\"/>\n",
              "    </g>\n",
              "</svg>\n",
              "  </button>\n",
              "\n",
              "<style>\n",
              "  .colab-df-quickchart {\n",
              "      --bg-color: #E8F0FE;\n",
              "      --fill-color: #1967D2;\n",
              "      --hover-bg-color: #E2EBFA;\n",
              "      --hover-fill-color: #174EA6;\n",
              "      --disabled-fill-color: #AAA;\n",
              "      --disabled-bg-color: #DDD;\n",
              "  }\n",
              "\n",
              "  [theme=dark] .colab-df-quickchart {\n",
              "      --bg-color: #3B4455;\n",
              "      --fill-color: #D2E3FC;\n",
              "      --hover-bg-color: #434B5C;\n",
              "      --hover-fill-color: #FFFFFF;\n",
              "      --disabled-bg-color: #3B4455;\n",
              "      --disabled-fill-color: #666;\n",
              "  }\n",
              "\n",
              "  .colab-df-quickchart {\n",
              "    background-color: var(--bg-color);\n",
              "    border: none;\n",
              "    border-radius: 50%;\n",
              "    cursor: pointer;\n",
              "    display: none;\n",
              "    fill: var(--fill-color);\n",
              "    height: 32px;\n",
              "    padding: 0;\n",
              "    width: 32px;\n",
              "  }\n",
              "\n",
              "  .colab-df-quickchart:hover {\n",
              "    background-color: var(--hover-bg-color);\n",
              "    box-shadow: 0 1px 2px rgba(60, 64, 67, 0.3), 0 1px 3px 1px rgba(60, 64, 67, 0.15);\n",
              "    fill: var(--button-hover-fill-color);\n",
              "  }\n",
              "\n",
              "  .colab-df-quickchart-complete:disabled,\n",
              "  .colab-df-quickchart-complete:disabled:hover {\n",
              "    background-color: var(--disabled-bg-color);\n",
              "    fill: var(--disabled-fill-color);\n",
              "    box-shadow: none;\n",
              "  }\n",
              "\n",
              "  .colab-df-spinner {\n",
              "    border: 2px solid var(--fill-color);\n",
              "    border-color: transparent;\n",
              "    border-bottom-color: var(--fill-color);\n",
              "    animation:\n",
              "      spin 1s steps(1) infinite;\n",
              "  }\n",
              "\n",
              "  @keyframes spin {\n",
              "    0% {\n",
              "      border-color: transparent;\n",
              "      border-bottom-color: var(--fill-color);\n",
              "      border-left-color: var(--fill-color);\n",
              "    }\n",
              "    20% {\n",
              "      border-color: transparent;\n",
              "      border-left-color: var(--fill-color);\n",
              "      border-top-color: var(--fill-color);\n",
              "    }\n",
              "    30% {\n",
              "      border-color: transparent;\n",
              "      border-left-color: var(--fill-color);\n",
              "      border-top-color: var(--fill-color);\n",
              "      border-right-color: var(--fill-color);\n",
              "    }\n",
              "    40% {\n",
              "      border-color: transparent;\n",
              "      border-right-color: var(--fill-color);\n",
              "      border-top-color: var(--fill-color);\n",
              "    }\n",
              "    60% {\n",
              "      border-color: transparent;\n",
              "      border-right-color: var(--fill-color);\n",
              "    }\n",
              "    80% {\n",
              "      border-color: transparent;\n",
              "      border-right-color: var(--fill-color);\n",
              "      border-bottom-color: var(--fill-color);\n",
              "    }\n",
              "    90% {\n",
              "      border-color: transparent;\n",
              "      border-bottom-color: var(--fill-color);\n",
              "    }\n",
              "  }\n",
              "</style>\n",
              "\n",
              "  <script>\n",
              "    async function quickchart(key) {\n",
              "      const quickchartButtonEl =\n",
              "        document.querySelector('#' + key + ' button');\n",
              "      quickchartButtonEl.disabled = true;  // To prevent multiple clicks.\n",
              "      quickchartButtonEl.classList.add('colab-df-spinner');\n",
              "      try {\n",
              "        const charts = await google.colab.kernel.invokeFunction(\n",
              "            'suggestCharts', [key], {});\n",
              "      } catch (error) {\n",
              "        console.error('Error during call to suggestCharts:', error);\n",
              "      }\n",
              "      quickchartButtonEl.classList.remove('colab-df-spinner');\n",
              "      quickchartButtonEl.classList.add('colab-df-quickchart-complete');\n",
              "    }\n",
              "    (() => {\n",
              "      let quickchartButtonEl =\n",
              "        document.querySelector('#df-1ace7269-beff-4f9a-b486-d65e1fb56ed0 button');\n",
              "      quickchartButtonEl.style.display =\n",
              "        google.colab.kernel.accessAllowed ? 'block' : 'none';\n",
              "    })();\n",
              "  </script>\n",
              "</div>\n",
              "    </div>\n",
              "  </div>\n"
            ]
          },
          "metadata": {},
          "execution_count": 102
        }
      ]
    },
    {
      "cell_type": "markdown",
      "source": [
        "**Hyper Parameter Tunning - For BernoulliNB**"
      ],
      "metadata": {
        "id": "O9pBUb24-gBP"
      }
    },
    {
      "cell_type": "code",
      "source": [
        "bnb.get_params()"
      ],
      "metadata": {
        "colab": {
          "base_uri": "https://localhost:8080/"
        },
        "id": "Duwq5XBk-fqO",
        "outputId": "2db4a07b-6c6c-4789-c2b7-2c448050fd7f"
      },
      "execution_count": null,
      "outputs": [
        {
          "output_type": "execute_result",
          "data": {
            "text/plain": [
              "{'alpha': 1.0,\n",
              " 'binarize': 0.0,\n",
              " 'class_prior': None,\n",
              " 'fit_prior': True,\n",
              " 'force_alpha': 'warn'}"
            ]
          },
          "metadata": {},
          "execution_count": 103
        }
      ]
    },
    {
      "cell_type": "code",
      "source": [
        "from sklearn.model_selection import GridSearchCV"
      ],
      "metadata": {
        "id": "KQnf3d3Eerc1"
      },
      "execution_count": null,
      "outputs": []
    },
    {
      "cell_type": "code",
      "source": [
        "param_grid = {\n",
        "    'alpha': [1000],# Minimum Value to create a smoothing\n",
        "}\n",
        "\n",
        "\n",
        "bnb_model = BernoulliNB()\n",
        "\n",
        "bnb_gs = GridSearchCV(bnb_model, param_grid, cv=5, scoring='recall_weighted')\n",
        "# Fit the model to the data\n",
        "bnb_gs.fit(X_train_scaled, y_train)\n",
        "\n",
        "# Get the best hyperparameters\n",
        "best_params = bnb_gs.best_params_\n",
        "\n",
        "# Use the best model for predictions\n",
        "best_model = bnb_gs.best_estimator_\n",
        "print(best_params)\n",
        "\n",
        "y_pred_bnb_gs=best_model.predict(X_test_scaled)"
      ],
      "metadata": {
        "id": "-lrb0tB4_wQc",
        "colab": {
          "base_uri": "https://localhost:8080/"
        },
        "outputId": "c4adf2f7-3509-4aa4-c7d6-9e59e2ce0b4d"
      },
      "execution_count": null,
      "outputs": [
        {
          "output_type": "stream",
          "name": "stdout",
          "text": [
            "{'alpha': 1000}\n"
          ]
        }
      ]
    },
    {
      "cell_type": "code",
      "source": [
        "\n",
        "# Evaluate the model\n",
        "print(\"Results for the BernoulliNB------\")\n",
        "accuracy = classification_report(y_test, y_pred_bnb_gs)\n",
        "rs_test = recall_score(y_test, y_pred_bnb_gs)\n",
        "print(\"Recall Score - \" + str(rs_test))\n",
        "print(accuracy)\n",
        "\n",
        "cm = confusion_matrix(y_test, y_pred_bnb_gs, labels=logreg.classes_)\n",
        "disp = ConfusionMatrixDisplay(cm,display_labels=logreg.classes_)\n",
        "disp.plot()\n"
      ],
      "metadata": {
        "colab": {
          "base_uri": "https://localhost:8080/",
          "height": 657
        },
        "id": "DCmKa8Z_D8zU",
        "outputId": "0a8c0975-0c19-4814-dc72-54d6e45ceb72"
      },
      "execution_count": null,
      "outputs": [
        {
          "output_type": "stream",
          "name": "stdout",
          "text": [
            "Results for the BernoulliNB------\n",
            "Recall Score - 0.9396605908233815\n",
            "              precision    recall  f1-score   support\n",
            "\n",
            "           0       0.66      0.21      0.31      1818\n",
            "           1       0.67      0.94      0.79      3182\n",
            "\n",
            "    accuracy                           0.67      5000\n",
            "   macro avg       0.67      0.57      0.55      5000\n",
            "weighted avg       0.67      0.67      0.61      5000\n",
            "\n"
          ]
        },
        {
          "output_type": "execute_result",
          "data": {
            "text/plain": [
              "<sklearn.metrics._plot.confusion_matrix.ConfusionMatrixDisplay at 0x7d50f35971f0>"
            ]
          },
          "metadata": {},
          "execution_count": 113
        },
        {
          "output_type": "display_data",
          "data": {
            "text/plain": [
              "<Figure size 640x480 with 2 Axes>"
            ],
            "image/png": "[encoded data removed]"
          },
          "metadata": {}
        }
      ]
    },
    {
      "cell_type": "markdown",
      "source": [
        "**Ensemble Other Weak Models**\n",
        "\n",
        "SVC requires predict_proba So Let's skip to another weak models"
      ],
      "metadata": {
        "id": "SYbkSE6GGeni"
      }
    },
    {
      "cell_type": "code",
      "source": [
        "dfresults[dfresults['index']=='accuracy'].sort_values(by=['ModelAcc'],ascending=False)"
      ],
      "metadata": {
        "colab": {
          "base_uri": "https://localhost:8080/",
          "height": 206
        },
        "id": "6oJyyQfeFarR",
        "outputId": "d9fd5753-0f8b-4e10-aefe-72f4f9ac9245"
      },
      "execution_count": null,
      "outputs": [
        {
          "output_type": "execute_result",
          "data": {
            "text/plain": [
              "      index  precision  recall  f1-score  support                   Model  \\\n",
              "2  accuracy     0.6764  0.6764    0.6764   0.6764             BernoulliNB   \n",
              "2  accuracy     0.6666  0.6666    0.6666   0.6666                     SVC   \n",
              "2  accuracy     0.6756  0.6756    0.6756   0.6756      LogisticRegression   \n",
              "2  accuracy     0.6764  0.6764    0.6764   0.6764  DecisionTreeClassifier   \n",
              "2  accuracy     0.6552  0.6552    0.6552   0.6552    KNeighborsClassifier   \n",
              "\n",
              "   ModelAcc  \n",
              "2  0.902891  \n",
              "2  0.902263  \n",
              "2  0.900063  \n",
              "2  0.866122  \n",
              "2  0.811439  "
            ],
            "text/html": [
              "\n",
              "  <div id=\"df-708ae4ae-623b-4984-9823-169b96ea27d9\" class=\"colab-df-container\">\n",
              "    <div>\n",
              "<style scoped>\n",
              "    .dataframe tbody tr th:only-of-type {\n",
              "        vertical-align: middle;\n",
              "    }\n",
              "\n",
              "    .dataframe tbody tr th {\n",
              "        vertical-align: top;\n",
              "    }\n",
              "\n",
              "    .dataframe thead th {\n",
              "        text-align: right;\n",
              "    }\n",
              "</style>\n",
              "<table border=\"1\" class=\"dataframe\">\n",
              "  <thead>\n",
              "    <tr style=\"text-align: right;\">\n",
              "      <th></th>\n",
              "      <th>index</th>\n",
              "      <th>precision</th>\n",
              "      <th>recall</th>\n",
              "      <th>f1-score</th>\n",
              "      <th>support</th>\n",
              "      <th>Model</th>\n",
              "      <th>ModelAcc</th>\n",
              "    </tr>\n",
              "  </thead>\n",
              "  <tbody>\n",
              "    <tr>\n",
              "      <th>2</th>\n",
              "      <td>accuracy</td>\n",
              "      <td>0.6764</td>\n",
              "      <td>0.6764</td>\n",
              "      <td>0.6764</td>\n",
              "      <td>0.6764</td>\n",
              "      <td>BernoulliNB</td>\n",
              "      <td>0.902891</td>\n",
              "    </tr>\n",
              "    <tr>\n",
              "      <th>2</th>\n",
              "      <td>accuracy</td>\n",
              "      <td>0.6666</td>\n",
              "      <td>0.6666</td>\n",
              "      <td>0.6666</td>\n",
              "      <td>0.6666</td>\n",
              "      <td>SVC</td>\n",
              "      <td>0.902263</td>\n",
              "    </tr>\n",
              "    <tr>\n",
              "      <th>2</th>\n",
              "      <td>accuracy</td>\n",
              "      <td>0.6756</td>\n",
              "      <td>0.6756</td>\n",
              "      <td>0.6756</td>\n",
              "      <td>0.6756</td>\n",
              "      <td>LogisticRegression</td>\n",
              "      <td>0.900063</td>\n",
              "    </tr>\n",
              "    <tr>\n",
              "      <th>2</th>\n",
              "      <td>accuracy</td>\n",
              "      <td>0.6764</td>\n",
              "      <td>0.6764</td>\n",
              "      <td>0.6764</td>\n",
              "      <td>0.6764</td>\n",
              "      <td>DecisionTreeClassifier</td>\n",
              "      <td>0.866122</td>\n",
              "    </tr>\n",
              "    <tr>\n",
              "      <th>2</th>\n",
              "      <td>accuracy</td>\n",
              "      <td>0.6552</td>\n",
              "      <td>0.6552</td>\n",
              "      <td>0.6552</td>\n",
              "      <td>0.6552</td>\n",
              "      <td>KNeighborsClassifier</td>\n",
              "      <td>0.811439</td>\n",
              "    </tr>\n",
              "  </tbody>\n",
              "</table>\n",
              "</div>\n",
              "    <div class=\"colab-df-buttons\">\n",
              "\n",
              "  <div class=\"colab-df-container\">\n",
              "    <button class=\"colab-df-convert\" onclick=\"convertToInteractive('df-708ae4ae-623b-4984-9823-169b96ea27d9')\"\n",
              "            title=\"Convert this dataframe to an interactive table.\"\n",
              "            style=\"display:none;\">\n",
              "\n",
              "  <svg xmlns=\"http://www.w3.org/2000/svg\" height=\"24px\" viewBox=\"0 -960 960 960\">\n",
              "    <path d=\"M120-120v-720h720v720H120Zm60-500h600v-160H180v160Zm220 220h160v-160H400v160Zm0 220h160v-160H400v160ZM180-400h160v-160H180v160Zm440 0h160v-160H620v160ZM180-180h160v-160H180v160Zm440 0h160v-160H620v160Z\"/>\n",
              "  </svg>\n",
              "    </button>\n",
              "\n",
              "  <style>\n",
              "    .colab-df-container {\n",
              "      display:flex;\n",
              "      gap: 12px;\n",
              "    }\n",
              "\n",
              "    .colab-df-convert {\n",
              "      background-color: #E8F0FE;\n",
              "      border: none;\n",
              "      border-radius: 50%;\n",
              "      cursor: pointer;\n",
              "      display: none;\n",
              "      fill: #1967D2;\n",
              "      height: 32px;\n",
              "      padding: 0 0 0 0;\n",
              "      width: 32px;\n",
              "    }\n",
              "\n",
              "    .colab-df-convert:hover {\n",
              "      background-color: #E2EBFA;\n",
              "      box-shadow: 0px 1px 2px rgba(60, 64, 67, 0.3), 0px 1px 3px 1px rgba(60, 64, 67, 0.15);\n",
              "      fill: #174EA6;\n",
              "    }\n",
              "\n",
              "    .colab-df-buttons div {\n",
              "      margin-bottom: 4px;\n",
              "    }\n",
              "\n",
              "    [theme=dark] .colab-df-convert {\n",
              "      background-color: #3B4455;\n",
              "      fill: #D2E3FC;\n",
              "    }\n",
              "\n",
              "    [theme=dark] .colab-df-convert:hover {\n",
              "      background-color: #434B5C;\n",
              "      box-shadow: 0px 1px 3px 1px rgba(0, 0, 0, 0.15);\n",
              "      filter: drop-shadow(0px 1px 2px rgba(0, 0, 0, 0.3));\n",
              "      fill: #FFFFFF;\n",
              "    }\n",
              "  </style>\n",
              "\n",
              "    <script>\n",
              "      const buttonEl =\n",
              "        document.querySelector('#df-708ae4ae-623b-4984-9823-169b96ea27d9 button.colab-df-convert');\n",
              "      buttonEl.style.display =\n",
              "        google.colab.kernel.accessAllowed ? 'block' : 'none';\n",
              "\n",
              "      async function convertToInteractive(key) {\n",
              "        const element = document.querySelector('#df-708ae4ae-623b-4984-9823-169b96ea27d9');\n",
              "        const dataTable =\n",
              "          await google.colab.kernel.invokeFunction('convertToInteractive',\n",
              "                                                    [key], {});\n",
              "        if (!dataTable) return;\n",
              "\n",
              "        const docLinkHtml = 'Like what you see? Visit the ' +\n",
              "          '<a target=\"_blank\" href=https://colab.research.google.com/notebooks/data_table.ipynb>data table notebook</a>'\n",
              "          + ' to learn more about interactive tables.';\n",
              "        element.innerHTML = '';\n",
              "        dataTable['output_type'] = 'display_data';\n",
              "        await google.colab.output.renderOutput(dataTable, element);\n",
              "        const docLink = document.createElement('div');\n",
              "        docLink.innerHTML = docLinkHtml;\n",
              "        element.appendChild(docLink);\n",
              "      }\n",
              "    </script>\n",
              "  </div>\n",
              "\n",
              "\n",
              "<div id=\"df-cedf0a0a-9608-44de-8471-6aff3452165b\">\n",
              "  <button class=\"colab-df-quickchart\" onclick=\"quickchart('df-cedf0a0a-9608-44de-8471-6aff3452165b')\"\n",
              "            title=\"Suggest charts\"\n",
              "            style=\"display:none;\">\n",
              "\n",
              "<svg xmlns=\"http://www.w3.org/2000/svg\" height=\"24px\"viewBox=\"0 0 24 24\"\n",
              "     width=\"24px\">\n",
              "    <g>\n",
              "        <path d=\"M19 3H5c-1.1 0-2 .9-2 2v14c0 1.1.9 2 2 2h14c1.1 0 2-.9 2-2V5c0-1.1-.9-2-2-2zM9 17H7v-7h2v7zm4 0h-2V7h2v10zm4 0h-2v-4h2v4z\"/>\n",
              "    </g>\n",
              "</svg>\n",
              "  </button>\n",
              "\n",
              "<style>\n",
              "  .colab-df-quickchart {\n",
              "      --bg-color: #E8F0FE;\n",
              "      --fill-color: #1967D2;\n",
              "      --hover-bg-color: #E2EBFA;\n",
              "      --hover-fill-color: #174EA6;\n",
              "      --disabled-fill-color: #AAA;\n",
              "      --disabled-bg-color: #DDD;\n",
              "  }\n",
              "\n",
              "  [theme=dark] .colab-df-quickchart {\n",
              "      --bg-color: #3B4455;\n",
              "      --fill-color: #D2E3FC;\n",
              "      --hover-bg-color: #434B5C;\n",
              "      --hover-fill-color: #FFFFFF;\n",
              "      --disabled-bg-color: #3B4455;\n",
              "      --disabled-fill-color: #666;\n",
              "  }\n",
              "\n",
              "  .colab-df-quickchart {\n",
              "    background-color: var(--bg-color);\n",
              "    border: none;\n",
              "    border-radius: 50%;\n",
              "    cursor: pointer;\n",
              "    display: none;\n",
              "    fill: var(--fill-color);\n",
              "    height: 32px;\n",
              "    padding: 0;\n",
              "    width: 32px;\n",
              "  }\n",
              "\n",
              "  .colab-df-quickchart:hover {\n",
              "    background-color: var(--hover-bg-color);\n",
              "    box-shadow: 0 1px 2px rgba(60, 64, 67, 0.3), 0 1px 3px 1px rgba(60, 64, 67, 0.15);\n",
              "    fill: var(--button-hover-fill-color);\n",
              "  }\n",
              "\n",
              "  .colab-df-quickchart-complete:disabled,\n",
              "  .colab-df-quickchart-complete:disabled:hover {\n",
              "    background-color: var(--disabled-bg-color);\n",
              "    fill: var(--disabled-fill-color);\n",
              "    box-shadow: none;\n",
              "  }\n",
              "\n",
              "  .colab-df-spinner {\n",
              "    border: 2px solid var(--fill-color);\n",
              "    border-color: transparent;\n",
              "    border-bottom-color: var(--fill-color);\n",
              "    animation:\n",
              "      spin 1s steps(1) infinite;\n",
              "  }\n",
              "\n",
              "  @keyframes spin {\n",
              "    0% {\n",
              "      border-color: transparent;\n",
              "      border-bottom-color: var(--fill-color);\n",
              "      border-left-color: var(--fill-color);\n",
              "    }\n",
              "    20% {\n",
              "      border-color: transparent;\n",
              "      border-left-color: var(--fill-color);\n",
              "      border-top-color: var(--fill-color);\n",
              "    }\n",
              "    30% {\n",
              "      border-color: transparent;\n",
              "      border-left-color: var(--fill-color);\n",
              "      border-top-color: var(--fill-color);\n",
              "      border-right-color: var(--fill-color);\n",
              "    }\n",
              "    40% {\n",
              "      border-color: transparent;\n",
              "      border-right-color: var(--fill-color);\n",
              "      border-top-color: var(--fill-color);\n",
              "    }\n",
              "    60% {\n",
              "      border-color: transparent;\n",
              "      border-right-color: var(--fill-color);\n",
              "    }\n",
              "    80% {\n",
              "      border-color: transparent;\n",
              "      border-right-color: var(--fill-color);\n",
              "      border-bottom-color: var(--fill-color);\n",
              "    }\n",
              "    90% {\n",
              "      border-color: transparent;\n",
              "      border-bottom-color: var(--fill-color);\n",
              "    }\n",
              "  }\n",
              "</style>\n",
              "\n",
              "  <script>\n",
              "    async function quickchart(key) {\n",
              "      const quickchartButtonEl =\n",
              "        document.querySelector('#' + key + ' button');\n",
              "      quickchartButtonEl.disabled = true;  // To prevent multiple clicks.\n",
              "      quickchartButtonEl.classList.add('colab-df-spinner');\n",
              "      try {\n",
              "        const charts = await google.colab.kernel.invokeFunction(\n",
              "            'suggestCharts', [key], {});\n",
              "      } catch (error) {\n",
              "        console.error('Error during call to suggestCharts:', error);\n",
              "      }\n",
              "      quickchartButtonEl.classList.remove('colab-df-spinner');\n",
              "      quickchartButtonEl.classList.add('colab-df-quickchart-complete');\n",
              "    }\n",
              "    (() => {\n",
              "      let quickchartButtonEl =\n",
              "        document.querySelector('#df-cedf0a0a-9608-44de-8471-6aff3452165b button');\n",
              "      quickchartButtonEl.style.display =\n",
              "        google.colab.kernel.accessAllowed ? 'block' : 'none';\n",
              "    })();\n",
              "  </script>\n",
              "</div>\n",
              "    </div>\n",
              "  </div>\n"
            ]
          },
          "metadata": {},
          "execution_count": 78
        }
      ]
    },
    {
      "cell_type": "code",
      "source": [
        "from sklearn.ensemble import VotingClassifier\n",
        "# Create a Voting Classifier\n",
        "voting_classifier = VotingClassifier(estimators=[\n",
        "    ('LogisticRegression', logreg),\n",
        "    ('DecisionTreeClassifier', clf)\n",
        "], voting='soft')"
      ],
      "metadata": {
        "id": "1zcFMTaaG9oy"
      },
      "execution_count": null,
      "outputs": []
    },
    {
      "cell_type": "code",
      "source": [
        "# Fit the ensemble model\n",
        "voting_classifier.fit(X_train_scaled, y_train)\n",
        "\n",
        "# Predictions\n",
        "y_pred_ens = voting_classifier.predict(X_test_scaled)"
      ],
      "metadata": {
        "id": "5kasVUTSH1ZO"
      },
      "execution_count": null,
      "outputs": []
    },
    {
      "cell_type": "code",
      "source": [
        "\n",
        "# Evaluate the model\n",
        "print(\"Results for the Ensemble------\")\n",
        "accuracy = classification_report(y_test, y_pred_ens)\n",
        "rs_test = recall_score(y_test, y_pred_ens)\n",
        "print(\"Recall Score - \" + str(rs_test))\n",
        "print(accuracy)\n",
        "\n",
        "cm = confusion_matrix(y_test, y_pred_ens, labels=logreg.classes_)\n",
        "disp = ConfusionMatrixDisplay(cm,display_labels=logreg.classes_)\n",
        "disp.plot()\n"
      ],
      "metadata": {
        "colab": {
          "base_uri": "https://localhost:8080/",
          "height": 657
        },
        "id": "LyNkZm1DIJNb",
        "outputId": "8d0f1c90-1168-4add-b4db-ca9ffd01e923"
      },
      "execution_count": null,
      "outputs": [
        {
          "output_type": "stream",
          "name": "stdout",
          "text": [
            "Results for the Ensemble------\n",
            "Recall Score - 0.9016341923318667\n",
            "              precision    recall  f1-score   support\n",
            "\n",
            "           0       0.64      0.31      0.41      1818\n",
            "           1       0.69      0.90      0.78      3182\n",
            "\n",
            "    accuracy                           0.68      5000\n",
            "   macro avg       0.67      0.60      0.60      5000\n",
            "weighted avg       0.67      0.68      0.65      5000\n",
            "\n"
          ]
        },
        {
          "output_type": "execute_result",
          "data": {
            "text/plain": [
              "<sklearn.metrics._plot.confusion_matrix.ConfusionMatrixDisplay at 0x7d50f45bd0f0>"
            ]
          },
          "metadata": {},
          "execution_count": 81
        },
        {
          "output_type": "display_data",
          "data": {
            "text/plain": [
              "<Figure size 640x480 with 2 Axes>"
            ],
            "image/png": "[encoded data removed]"
          },
          "metadata": {}
        }
      ]
    },
    {
      "cell_type": "code",
      "source": [],
      "metadata": {
        "id": "YLdSqdayIjej"
      },
      "execution_count": null,
      "outputs": []
    }
  ]
}
